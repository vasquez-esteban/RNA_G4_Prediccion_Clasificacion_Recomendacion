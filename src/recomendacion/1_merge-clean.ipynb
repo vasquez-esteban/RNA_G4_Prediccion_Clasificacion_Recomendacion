{
 "cells": [
  {
   "cell_type": "markdown",
   "id": "bdff604e",
   "metadata": {
    "_cell_guid": "9f513fd3-548a-42fc-af29-ea9768568240",
    "_uuid": "bfba3249-296c-499d-984e-d8287d149b93",
    "collapsed": false,
    "jupyter": {
     "outputs_hidden": false
    },
    "papermill": {
     "duration": 0.00862,
     "end_time": "2025-06-30T17:05:07.464116",
     "exception": false,
     "start_time": "2025-06-30T17:05:07.455496",
     "status": "completed"
    },
    "tags": []
   },
   "source": [
    "# Sistema de Recomendación de Destinos para Usuarios"
   ]
  },
  {
   "cell_type": "markdown",
   "id": "db0d9ba2",
   "metadata": {
    "_cell_guid": "2934ad21-c58f-4180-af8e-6979dc6e39cd",
    "_uuid": "b1e80ea3-b990-4d63-a16d-ee8f3b0674e1",
    "collapsed": false,
    "jupyter": {
     "outputs_hidden": false
    },
    "papermill": {
     "duration": 0.006934,
     "end_time": "2025-06-30T17:05:07.478757",
     "exception": false,
     "start_time": "2025-06-30T17:05:07.471823",
     "status": "completed"
    },
    "tags": []
   },
   "source": [
    "## Unión De Información Disponible"
   ]
  },
  {
   "cell_type": "code",
   "execution_count": 1,
   "id": "116cef1c",
   "metadata": {
    "_cell_guid": "c18bc241-3945-4977-a0af-65af423745fd",
    "_uuid": "6e53602a-88fc-465e-905a-c14ca5fc801f",
    "collapsed": false,
    "execution": {
     "iopub.execute_input": "2025-06-30T17:05:07.494780Z",
     "iopub.status.busy": "2025-06-30T17:05:07.494490Z",
     "iopub.status.idle": "2025-06-30T17:05:11.616311Z",
     "shell.execute_reply": "2025-06-30T17:05:11.615287Z"
    },
    "jupyter": {
     "outputs_hidden": false
    },
    "papermill": {
     "duration": 4.131734,
     "end_time": "2025-06-30T17:05:11.617988",
     "exception": false,
     "start_time": "2025-06-30T17:05:07.486254",
     "status": "completed"
    },
    "tags": []
   },
   "outputs": [],
   "source": [
    "# Manipulación de datos\n",
    "import pandas as pd\n",
    "import numpy as np\n",
    "\n",
    "# Preprocesamiento\n",
    "from sklearn.preprocessing import LabelEncoder, MinMaxScaler, MultiLabelBinarizer, OneHotEncoder\n",
    "from sklearn.model_selection import train_test_split\n",
    "\n",
    "# Visualización\n",
    "import matplotlib.pyplot as plt\n",
    "import seaborn as sns\n",
    "\n",
    "# Utilidades\n",
    "import os\n",
    "import warnings\n",
    "warnings.filterwarnings(\"ignore\")\n",
    "\n",
    "# Utilidad para exportar el modelo\n",
    "import joblib\n",
    "\n",
    "# Utilidad para GridSearch\n",
    "import itertools"
   ]
  },
  {
   "cell_type": "code",
   "execution_count": 2,
   "id": "d0b3a135",
   "metadata": {
    "_cell_guid": "13550297-fdf8-4d54-88f1-7b835fe25024",
    "_uuid": "52da5a71-8916-4081-95ff-8c22c7896586",
    "collapsed": false,
    "execution": {
     "iopub.execute_input": "2025-06-30T17:05:11.634344Z",
     "iopub.status.busy": "2025-06-30T17:05:11.633901Z",
     "iopub.status.idle": "2025-06-30T17:05:11.644467Z",
     "shell.execute_reply": "2025-06-30T17:05:11.643424Z"
    },
    "jupyter": {
     "outputs_hidden": false
    },
    "papermill": {
     "duration": 0.020302,
     "end_time": "2025-06-30T17:05:11.645966",
     "exception": false,
     "start_time": "2025-06-30T17:05:11.625664",
     "status": "completed"
    },
    "tags": []
   },
   "outputs": [
    {
     "name": "stdout",
     "output_type": "stream",
     "text": [
      "/kaggle/input/travel-recommendation-dataset/Final_Updated_Expanded_Users.csv\n",
      "/kaggle/input/travel-recommendation-dataset/Expanded_Destinations.csv\n",
      "/kaggle/input/travel-recommendation-dataset/Final_Updated_Expanded_Reviews.csv\n",
      "/kaggle/input/travel-recommendation-dataset/Final_Updated_Expanded_UserHistory.csv\n"
     ]
    }
   ],
   "source": [
    "for dirname, _, filenames in os.walk('/kaggle/input'):\n",
    "    for filename in filenames:\n",
    "        print(os.path.join(dirname, filename))"
   ]
  },
  {
   "cell_type": "markdown",
   "id": "7eadaadb",
   "metadata": {
    "_cell_guid": "e6887a97-603a-4d9d-858f-ac0e2ea8fb22",
    "_uuid": "ae3b87a6-c3df-4928-90ce-6a9806f2a28b",
    "collapsed": false,
    "jupyter": {
     "outputs_hidden": false
    },
    "papermill": {
     "duration": 0.007462,
     "end_time": "2025-06-30T17:05:11.660996",
     "exception": false,
     "start_time": "2025-06-30T17:05:11.653534",
     "status": "completed"
    },
    "tags": []
   },
   "source": [
    "No consideramos el review id ya que"
   ]
  },
  {
   "cell_type": "code",
   "execution_count": 3,
   "id": "4acf41d8",
   "metadata": {
    "_cell_guid": "053f4699-77c8-4d9b-a470-99da996b58ba",
    "_uuid": "3cdae035-850e-4683-b820-2a41c7392bf7",
    "collapsed": false,
    "execution": {
     "iopub.execute_input": "2025-06-30T17:05:11.677489Z",
     "iopub.status.busy": "2025-06-30T17:05:11.676616Z",
     "iopub.status.idle": "2025-06-30T17:05:11.715483Z",
     "shell.execute_reply": "2025-06-30T17:05:11.714632Z"
    },
    "jupyter": {
     "outputs_hidden": false
    },
    "papermill": {
     "duration": 0.048676,
     "end_time": "2025-06-30T17:05:11.717033",
     "exception": false,
     "start_time": "2025-06-30T17:05:11.668357",
     "status": "completed"
    },
    "tags": []
   },
   "outputs": [],
   "source": [
    "# Rutas\n",
    "path = \"/kaggle/input/travel-recommendation-dataset/\"\n",
    "\n",
    "# Carga\n",
    "df_users = pd.read_csv(path + \"Final_Updated_Expanded_Users.csv\")\n",
    "df_dest = pd.read_csv(path + \"Expanded_Destinations.csv\")\n",
    "df_history = pd.read_csv(path + \"Final_Updated_Expanded_UserHistory.csv\")"
   ]
  },
  {
   "cell_type": "code",
   "execution_count": 4,
   "id": "03338a1d",
   "metadata": {
    "_cell_guid": "3d31734f-1234-4d35-8795-02a12f58dbed",
    "_uuid": "e53f1584-a5b6-4d85-8191-c8a96775a9e3",
    "collapsed": false,
    "execution": {
     "iopub.execute_input": "2025-06-30T17:05:11.733488Z",
     "iopub.status.busy": "2025-06-30T17:05:11.732536Z",
     "iopub.status.idle": "2025-06-30T17:05:11.738649Z",
     "shell.execute_reply": "2025-06-30T17:05:11.737913Z"
    },
    "jupyter": {
     "outputs_hidden": false
    },
    "papermill": {
     "duration": 0.015626,
     "end_time": "2025-06-30T17:05:11.740107",
     "exception": false,
     "start_time": "2025-06-30T17:05:11.724481",
     "status": "completed"
    },
    "tags": []
   },
   "outputs": [
    {
     "data": {
      "text/plain": [
       "(999, 7)"
      ]
     },
     "execution_count": 4,
     "metadata": {},
     "output_type": "execute_result"
    }
   ],
   "source": [
    "df_users.shape"
   ]
  },
  {
   "cell_type": "code",
   "execution_count": 5,
   "id": "9aee741c",
   "metadata": {
    "_cell_guid": "4a7193d9-54e9-42ae-b090-2b418946ea41",
    "_uuid": "fd7790dc-e64f-4e6e-ae37-0d6b35ee37b3",
    "collapsed": false,
    "execution": {
     "iopub.execute_input": "2025-06-30T17:05:11.756314Z",
     "iopub.status.busy": "2025-06-30T17:05:11.755998Z",
     "iopub.status.idle": "2025-06-30T17:05:11.761463Z",
     "shell.execute_reply": "2025-06-30T17:05:11.760586Z"
    },
    "jupyter": {
     "outputs_hidden": false
    },
    "papermill": {
     "duration": 0.015099,
     "end_time": "2025-06-30T17:05:11.762859",
     "exception": false,
     "start_time": "2025-06-30T17:05:11.747760",
     "status": "completed"
    },
    "tags": []
   },
   "outputs": [
    {
     "data": {
      "text/plain": [
       "(1000, 6)"
      ]
     },
     "execution_count": 5,
     "metadata": {},
     "output_type": "execute_result"
    }
   ],
   "source": [
    "df_dest.shape"
   ]
  },
  {
   "cell_type": "code",
   "execution_count": 6,
   "id": "fb450650",
   "metadata": {
    "_cell_guid": "7f4fc5c6-4904-4cd7-af6c-21a9e5b2ff64",
    "_uuid": "36dc33cd-cd03-45d0-9329-e0a29b1dc2a1",
    "collapsed": false,
    "execution": {
     "iopub.execute_input": "2025-06-30T17:05:11.779397Z",
     "iopub.status.busy": "2025-06-30T17:05:11.778733Z",
     "iopub.status.idle": "2025-06-30T17:05:11.784314Z",
     "shell.execute_reply": "2025-06-30T17:05:11.783497Z"
    },
    "jupyter": {
     "outputs_hidden": false
    },
    "papermill": {
     "duration": 0.015389,
     "end_time": "2025-06-30T17:05:11.785717",
     "exception": false,
     "start_time": "2025-06-30T17:05:11.770328",
     "status": "completed"
    },
    "tags": []
   },
   "outputs": [
    {
     "data": {
      "text/plain": [
       "(999, 5)"
      ]
     },
     "execution_count": 6,
     "metadata": {},
     "output_type": "execute_result"
    }
   ],
   "source": [
    "df_history.shape"
   ]
  },
  {
   "cell_type": "code",
   "execution_count": 7,
   "id": "c287a725",
   "metadata": {
    "_cell_guid": "afcb0617-353a-4488-98e9-02d59e417f81",
    "_uuid": "2d95bd5d-4fd1-4b48-9e39-b1a72876b163",
    "collapsed": false,
    "execution": {
     "iopub.execute_input": "2025-06-30T17:05:11.802536Z",
     "iopub.status.busy": "2025-06-30T17:05:11.801776Z",
     "iopub.status.idle": "2025-06-30T17:05:11.831063Z",
     "shell.execute_reply": "2025-06-30T17:05:11.830270Z"
    },
    "jupyter": {
     "outputs_hidden": false
    },
    "papermill": {
     "duration": 0.039236,
     "end_time": "2025-06-30T17:05:11.832737",
     "exception": false,
     "start_time": "2025-06-30T17:05:11.793501",
     "status": "completed"
    },
    "tags": []
   },
   "outputs": [],
   "source": [
    "# Merge 1: history + users (por UserID)\n",
    "df_model = df_history.merge(df_users, on=\"UserID\", how=\"left\")\n",
    "\n",
    "# Merge 2: resultado anterior + destinations (por DestinationID)\n",
    "df_model = df_model.merge(df_dest, on=\"DestinationID\", how=\"left\")"
   ]
  },
  {
   "cell_type": "code",
   "execution_count": 8,
   "id": "7e16af4e",
   "metadata": {
    "_cell_guid": "d2afdc6e-9556-4690-b5c0-a7b079889ab0",
    "_uuid": "7e0d6255-624b-412c-aa0c-c3a41bc4bf5e",
    "collapsed": false,
    "execution": {
     "iopub.execute_input": "2025-06-30T17:05:11.849481Z",
     "iopub.status.busy": "2025-06-30T17:05:11.849147Z",
     "iopub.status.idle": "2025-06-30T17:05:11.854491Z",
     "shell.execute_reply": "2025-06-30T17:05:11.853782Z"
    },
    "jupyter": {
     "outputs_hidden": false
    },
    "papermill": {
     "duration": 0.015371,
     "end_time": "2025-06-30T17:05:11.855863",
     "exception": false,
     "start_time": "2025-06-30T17:05:11.840492",
     "status": "completed"
    },
    "tags": []
   },
   "outputs": [],
   "source": [
    "df_model = df_model.rename(columns={\n",
    "    \"Name_x\": \"NameUser\",\n",
    "    \"Name_y\": \"NameDestination\"\n",
    "})"
   ]
  },
  {
   "cell_type": "code",
   "execution_count": 9,
   "id": "751b572e",
   "metadata": {
    "_cell_guid": "2b58c132-71a0-48c5-a505-c12941e7d6a4",
    "_uuid": "5d8b18a4-fdd8-4ba2-9798-28f5971acd90",
    "collapsed": false,
    "execution": {
     "iopub.execute_input": "2025-06-30T17:05:11.872186Z",
     "iopub.status.busy": "2025-06-30T17:05:11.871865Z",
     "iopub.status.idle": "2025-06-30T17:05:11.896697Z",
     "shell.execute_reply": "2025-06-30T17:05:11.895763Z"
    },
    "jupyter": {
     "outputs_hidden": false
    },
    "papermill": {
     "duration": 0.034844,
     "end_time": "2025-06-30T17:05:11.898473",
     "exception": false,
     "start_time": "2025-06-30T17:05:11.863629",
     "status": "completed"
    },
    "tags": []
   },
   "outputs": [
    {
     "data": {
      "text/html": [
       "<div>\n",
       "<style scoped>\n",
       "    .dataframe tbody tr th:only-of-type {\n",
       "        vertical-align: middle;\n",
       "    }\n",
       "\n",
       "    .dataframe tbody tr th {\n",
       "        vertical-align: top;\n",
       "    }\n",
       "\n",
       "    .dataframe thead th {\n",
       "        text-align: right;\n",
       "    }\n",
       "</style>\n",
       "<table border=\"1\" class=\"dataframe\">\n",
       "  <thead>\n",
       "    <tr style=\"text-align: right;\">\n",
       "      <th></th>\n",
       "      <th>HistoryID</th>\n",
       "      <th>UserID</th>\n",
       "      <th>DestinationID</th>\n",
       "      <th>VisitDate</th>\n",
       "      <th>ExperienceRating</th>\n",
       "      <th>NameUser</th>\n",
       "      <th>Email</th>\n",
       "      <th>Preferences</th>\n",
       "      <th>Gender</th>\n",
       "      <th>NumberOfAdults</th>\n",
       "      <th>NumberOfChildren</th>\n",
       "      <th>NameDestination</th>\n",
       "      <th>State</th>\n",
       "      <th>Type</th>\n",
       "      <th>Popularity</th>\n",
       "      <th>BestTimeToVisit</th>\n",
       "    </tr>\n",
       "  </thead>\n",
       "  <tbody>\n",
       "    <tr>\n",
       "      <th>0</th>\n",
       "      <td>1</td>\n",
       "      <td>525</td>\n",
       "      <td>760</td>\n",
       "      <td>2024-01-01</td>\n",
       "      <td>3</td>\n",
       "      <td>Saanvi</td>\n",
       "      <td>saanvi@example.com</td>\n",
       "      <td>City, Historical</td>\n",
       "      <td>Female</td>\n",
       "      <td>2</td>\n",
       "      <td>2</td>\n",
       "      <td>Leh Ladakh</td>\n",
       "      <td>Jammu and Kashmir</td>\n",
       "      <td>Adventure</td>\n",
       "      <td>8.352180</td>\n",
       "      <td>Apr-Jun</td>\n",
       "    </tr>\n",
       "    <tr>\n",
       "      <th>1</th>\n",
       "      <td>2</td>\n",
       "      <td>184</td>\n",
       "      <td>532</td>\n",
       "      <td>2024-02-15</td>\n",
       "      <td>5</td>\n",
       "      <td>Ishaan</td>\n",
       "      <td>ishaan@example.com</td>\n",
       "      <td>Beaches, Historical</td>\n",
       "      <td>Male</td>\n",
       "      <td>1</td>\n",
       "      <td>2</td>\n",
       "      <td>Goa Beaches</td>\n",
       "      <td>Goa</td>\n",
       "      <td>Beach</td>\n",
       "      <td>8.988127</td>\n",
       "      <td>Nov-Mar</td>\n",
       "    </tr>\n",
       "    <tr>\n",
       "      <th>2</th>\n",
       "      <td>3</td>\n",
       "      <td>897</td>\n",
       "      <td>786</td>\n",
       "      <td>2024-03-20</td>\n",
       "      <td>2</td>\n",
       "      <td>Pooja</td>\n",
       "      <td>pooja@example.com</td>\n",
       "      <td>City, Historical</td>\n",
       "      <td>Female</td>\n",
       "      <td>1</td>\n",
       "      <td>2</td>\n",
       "      <td>Taj Mahal</td>\n",
       "      <td>Uttar Pradesh</td>\n",
       "      <td>Historical</td>\n",
       "      <td>8.389206</td>\n",
       "      <td>Nov-Feb</td>\n",
       "    </tr>\n",
       "    <tr>\n",
       "      <th>3</th>\n",
       "      <td>4</td>\n",
       "      <td>470</td>\n",
       "      <td>660</td>\n",
       "      <td>2024-01-01</td>\n",
       "      <td>1</td>\n",
       "      <td>Arjun</td>\n",
       "      <td>arjun@example.com</td>\n",
       "      <td>Nature, Adventure</td>\n",
       "      <td>Male</td>\n",
       "      <td>2</td>\n",
       "      <td>1</td>\n",
       "      <td>Leh Ladakh</td>\n",
       "      <td>Jammu and Kashmir</td>\n",
       "      <td>Adventure</td>\n",
       "      <td>7.923388</td>\n",
       "      <td>Apr-Jun</td>\n",
       "    </tr>\n",
       "    <tr>\n",
       "      <th>4</th>\n",
       "      <td>5</td>\n",
       "      <td>989</td>\n",
       "      <td>389</td>\n",
       "      <td>2024-02-15</td>\n",
       "      <td>4</td>\n",
       "      <td>Ritvik</td>\n",
       "      <td>ritvik@example.com</td>\n",
       "      <td>Nature, Adventure</td>\n",
       "      <td>Male</td>\n",
       "      <td>2</td>\n",
       "      <td>1</td>\n",
       "      <td>Kerala Backwaters</td>\n",
       "      <td>Kerala</td>\n",
       "      <td>Nature</td>\n",
       "      <td>9.409146</td>\n",
       "      <td>Sep-Mar</td>\n",
       "    </tr>\n",
       "    <tr>\n",
       "      <th>5</th>\n",
       "      <td>6</td>\n",
       "      <td>266</td>\n",
       "      <td>394</td>\n",
       "      <td>2024-03-20</td>\n",
       "      <td>3</td>\n",
       "      <td>Vivaan</td>\n",
       "      <td>vivaan@example.com</td>\n",
       "      <td>Nature, Adventure</td>\n",
       "      <td>Male</td>\n",
       "      <td>2</td>\n",
       "      <td>1</td>\n",
       "      <td>Kerala Backwaters</td>\n",
       "      <td>Kerala</td>\n",
       "      <td>Nature</td>\n",
       "      <td>8.884526</td>\n",
       "      <td>Sep-Mar</td>\n",
       "    </tr>\n",
       "    <tr>\n",
       "      <th>6</th>\n",
       "      <td>7</td>\n",
       "      <td>399</td>\n",
       "      <td>953</td>\n",
       "      <td>2024-01-01</td>\n",
       "      <td>2</td>\n",
       "      <td>Dhruv</td>\n",
       "      <td>dhruv@example.com</td>\n",
       "      <td>City, Historical</td>\n",
       "      <td>Male</td>\n",
       "      <td>1</td>\n",
       "      <td>1</td>\n",
       "      <td>Jaipur City</td>\n",
       "      <td>Rajasthan</td>\n",
       "      <td>City</td>\n",
       "      <td>8.321399</td>\n",
       "      <td>Oct-Mar</td>\n",
       "    </tr>\n",
       "    <tr>\n",
       "      <th>7</th>\n",
       "      <td>8</td>\n",
       "      <td>869</td>\n",
       "      <td>901</td>\n",
       "      <td>2024-02-15</td>\n",
       "      <td>4</td>\n",
       "      <td>Karan</td>\n",
       "      <td>karan@example.com</td>\n",
       "      <td>Nature, Adventure</td>\n",
       "      <td>Male</td>\n",
       "      <td>1</td>\n",
       "      <td>1</td>\n",
       "      <td>Taj Mahal</td>\n",
       "      <td>Uttar Pradesh</td>\n",
       "      <td>Historical</td>\n",
       "      <td>7.943844</td>\n",
       "      <td>Nov-Feb</td>\n",
       "    </tr>\n",
       "    <tr>\n",
       "      <th>8</th>\n",
       "      <td>9</td>\n",
       "      <td>580</td>\n",
       "      <td>890</td>\n",
       "      <td>2024-03-20</td>\n",
       "      <td>1</td>\n",
       "      <td>Riya</td>\n",
       "      <td>riya@example.com</td>\n",
       "      <td>Beaches, Historical</td>\n",
       "      <td>Female</td>\n",
       "      <td>1</td>\n",
       "      <td>0</td>\n",
       "      <td>Leh Ladakh</td>\n",
       "      <td>Jammu and Kashmir</td>\n",
       "      <td>Adventure</td>\n",
       "      <td>7.743040</td>\n",
       "      <td>Apr-Jun</td>\n",
       "    </tr>\n",
       "    <tr>\n",
       "      <th>9</th>\n",
       "      <td>10</td>\n",
       "      <td>876</td>\n",
       "      <td>727</td>\n",
       "      <td>2024-01-01</td>\n",
       "      <td>4</td>\n",
       "      <td>Ritvik</td>\n",
       "      <td>ritvik@example.com</td>\n",
       "      <td>City, Historical</td>\n",
       "      <td>Male</td>\n",
       "      <td>2</td>\n",
       "      <td>2</td>\n",
       "      <td>Goa Beaches</td>\n",
       "      <td>Goa</td>\n",
       "      <td>Beach</td>\n",
       "      <td>7.714387</td>\n",
       "      <td>Nov-Mar</td>\n",
       "    </tr>\n",
       "  </tbody>\n",
       "</table>\n",
       "</div>"
      ],
      "text/plain": [
       "   HistoryID  UserID  DestinationID   VisitDate  ExperienceRating NameUser  \\\n",
       "0          1     525            760  2024-01-01                 3   Saanvi   \n",
       "1          2     184            532  2024-02-15                 5   Ishaan   \n",
       "2          3     897            786  2024-03-20                 2    Pooja   \n",
       "3          4     470            660  2024-01-01                 1    Arjun   \n",
       "4          5     989            389  2024-02-15                 4   Ritvik   \n",
       "5          6     266            394  2024-03-20                 3   Vivaan   \n",
       "6          7     399            953  2024-01-01                 2    Dhruv   \n",
       "7          8     869            901  2024-02-15                 4    Karan   \n",
       "8          9     580            890  2024-03-20                 1     Riya   \n",
       "9         10     876            727  2024-01-01                 4   Ritvik   \n",
       "\n",
       "                Email          Preferences  Gender  NumberOfAdults  \\\n",
       "0  saanvi@example.com     City, Historical  Female               2   \n",
       "1  ishaan@example.com  Beaches, Historical    Male               1   \n",
       "2   pooja@example.com     City, Historical  Female               1   \n",
       "3   arjun@example.com    Nature, Adventure    Male               2   \n",
       "4  ritvik@example.com    Nature, Adventure    Male               2   \n",
       "5  vivaan@example.com    Nature, Adventure    Male               2   \n",
       "6   dhruv@example.com     City, Historical    Male               1   \n",
       "7   karan@example.com    Nature, Adventure    Male               1   \n",
       "8    riya@example.com  Beaches, Historical  Female               1   \n",
       "9  ritvik@example.com     City, Historical    Male               2   \n",
       "\n",
       "   NumberOfChildren    NameDestination              State        Type  \\\n",
       "0                 2         Leh Ladakh  Jammu and Kashmir   Adventure   \n",
       "1                 2        Goa Beaches                Goa       Beach   \n",
       "2                 2          Taj Mahal      Uttar Pradesh  Historical   \n",
       "3                 1         Leh Ladakh  Jammu and Kashmir   Adventure   \n",
       "4                 1  Kerala Backwaters             Kerala      Nature   \n",
       "5                 1  Kerala Backwaters             Kerala      Nature   \n",
       "6                 1        Jaipur City          Rajasthan        City   \n",
       "7                 1          Taj Mahal      Uttar Pradesh  Historical   \n",
       "8                 0         Leh Ladakh  Jammu and Kashmir   Adventure   \n",
       "9                 2        Goa Beaches                Goa       Beach   \n",
       "\n",
       "   Popularity BestTimeToVisit  \n",
       "0    8.352180         Apr-Jun  \n",
       "1    8.988127         Nov-Mar  \n",
       "2    8.389206         Nov-Feb  \n",
       "3    7.923388         Apr-Jun  \n",
       "4    9.409146         Sep-Mar  \n",
       "5    8.884526         Sep-Mar  \n",
       "6    8.321399         Oct-Mar  \n",
       "7    7.943844         Nov-Feb  \n",
       "8    7.743040         Apr-Jun  \n",
       "9    7.714387         Nov-Mar  "
      ]
     },
     "execution_count": 9,
     "metadata": {},
     "output_type": "execute_result"
    }
   ],
   "source": [
    "df_model.head(10)"
   ]
  },
  {
   "cell_type": "code",
   "execution_count": 10,
   "id": "569b8ca6",
   "metadata": {
    "_cell_guid": "069ec251-eda2-4bcd-997d-0862d38a5d06",
    "_uuid": "bf6c6119-3d6b-43ae-b605-6056a24557ef",
    "collapsed": false,
    "execution": {
     "iopub.execute_input": "2025-06-30T17:05:11.915746Z",
     "iopub.status.busy": "2025-06-30T17:05:11.915445Z",
     "iopub.status.idle": "2025-06-30T17:05:11.921026Z",
     "shell.execute_reply": "2025-06-30T17:05:11.920343Z"
    },
    "jupyter": {
     "outputs_hidden": false
    },
    "papermill": {
     "duration": 0.015765,
     "end_time": "2025-06-30T17:05:11.922290",
     "exception": false,
     "start_time": "2025-06-30T17:05:11.906525",
     "status": "completed"
    },
    "tags": []
   },
   "outputs": [],
   "source": [
    "# Obtener nombres únicos ordenados\n",
    "unique_names = sorted(df_model['NameDestination'].unique())\n",
    "\n",
    "# Crear nuevo mapper: nombre → ID entero consecutivo\n",
    "name_to_new_id = {name: idx for idx, name in enumerate(unique_names)}"
   ]
  },
  {
   "cell_type": "code",
   "execution_count": 11,
   "id": "7ceb736e",
   "metadata": {
    "_cell_guid": "59891d3c-6d15-45e0-8f36-4c4bd2c01632",
    "_uuid": "9e5d5b9e-16e7-4e3f-a200-d255889a7772",
    "collapsed": false,
    "execution": {
     "iopub.execute_input": "2025-06-30T17:05:11.939568Z",
     "iopub.status.busy": "2025-06-30T17:05:11.938920Z",
     "iopub.status.idle": "2025-06-30T17:05:11.944088Z",
     "shell.execute_reply": "2025-06-30T17:05:11.943320Z"
    },
    "jupyter": {
     "outputs_hidden": false
    },
    "papermill": {
     "duration": 0.015334,
     "end_time": "2025-06-30T17:05:11.945573",
     "exception": false,
     "start_time": "2025-06-30T17:05:11.930239",
     "status": "completed"
    },
    "tags": []
   },
   "outputs": [],
   "source": [
    "# Asignar nuevos IDs\n",
    "df_model['DestinationID'] = df_model['NameDestination'].map(name_to_new_id)"
   ]
  },
  {
   "cell_type": "code",
   "execution_count": 12,
   "id": "59631d28",
   "metadata": {
    "_cell_guid": "cb39005f-8680-4d64-8d83-09fac60cb024",
    "_uuid": "a89b8f3e-1724-4c24-b7cb-a6482ebb2a2a",
    "collapsed": false,
    "execution": {
     "iopub.execute_input": "2025-06-30T17:05:11.963194Z",
     "iopub.status.busy": "2025-06-30T17:05:11.962344Z",
     "iopub.status.idle": "2025-06-30T17:05:11.975925Z",
     "shell.execute_reply": "2025-06-30T17:05:11.975184Z"
    },
    "jupyter": {
     "outputs_hidden": false
    },
    "papermill": {
     "duration": 0.023637,
     "end_time": "2025-06-30T17:05:11.977234",
     "exception": false,
     "start_time": "2025-06-30T17:05:11.953597",
     "status": "completed"
    },
    "tags": []
   },
   "outputs": [
    {
     "data": {
      "text/html": [
       "<div>\n",
       "<style scoped>\n",
       "    .dataframe tbody tr th:only-of-type {\n",
       "        vertical-align: middle;\n",
       "    }\n",
       "\n",
       "    .dataframe tbody tr th {\n",
       "        vertical-align: top;\n",
       "    }\n",
       "\n",
       "    .dataframe thead th {\n",
       "        text-align: right;\n",
       "    }\n",
       "</style>\n",
       "<table border=\"1\" class=\"dataframe\">\n",
       "  <thead>\n",
       "    <tr style=\"text-align: right;\">\n",
       "      <th></th>\n",
       "      <th>HistoryID</th>\n",
       "      <th>UserID</th>\n",
       "      <th>DestinationID</th>\n",
       "      <th>VisitDate</th>\n",
       "      <th>ExperienceRating</th>\n",
       "      <th>NameUser</th>\n",
       "      <th>Email</th>\n",
       "      <th>Preferences</th>\n",
       "      <th>Gender</th>\n",
       "      <th>NumberOfAdults</th>\n",
       "      <th>NumberOfChildren</th>\n",
       "      <th>NameDestination</th>\n",
       "      <th>State</th>\n",
       "      <th>Type</th>\n",
       "      <th>Popularity</th>\n",
       "      <th>BestTimeToVisit</th>\n",
       "    </tr>\n",
       "  </thead>\n",
       "  <tbody>\n",
       "    <tr>\n",
       "      <th>0</th>\n",
       "      <td>1</td>\n",
       "      <td>525</td>\n",
       "      <td>3</td>\n",
       "      <td>2024-01-01</td>\n",
       "      <td>3</td>\n",
       "      <td>Saanvi</td>\n",
       "      <td>saanvi@example.com</td>\n",
       "      <td>City, Historical</td>\n",
       "      <td>Female</td>\n",
       "      <td>2</td>\n",
       "      <td>2</td>\n",
       "      <td>Leh Ladakh</td>\n",
       "      <td>Jammu and Kashmir</td>\n",
       "      <td>Adventure</td>\n",
       "      <td>8.352180</td>\n",
       "      <td>Apr-Jun</td>\n",
       "    </tr>\n",
       "    <tr>\n",
       "      <th>1</th>\n",
       "      <td>2</td>\n",
       "      <td>184</td>\n",
       "      <td>0</td>\n",
       "      <td>2024-02-15</td>\n",
       "      <td>5</td>\n",
       "      <td>Ishaan</td>\n",
       "      <td>ishaan@example.com</td>\n",
       "      <td>Beaches, Historical</td>\n",
       "      <td>Male</td>\n",
       "      <td>1</td>\n",
       "      <td>2</td>\n",
       "      <td>Goa Beaches</td>\n",
       "      <td>Goa</td>\n",
       "      <td>Beach</td>\n",
       "      <td>8.988127</td>\n",
       "      <td>Nov-Mar</td>\n",
       "    </tr>\n",
       "    <tr>\n",
       "      <th>2</th>\n",
       "      <td>3</td>\n",
       "      <td>897</td>\n",
       "      <td>4</td>\n",
       "      <td>2024-03-20</td>\n",
       "      <td>2</td>\n",
       "      <td>Pooja</td>\n",
       "      <td>pooja@example.com</td>\n",
       "      <td>City, Historical</td>\n",
       "      <td>Female</td>\n",
       "      <td>1</td>\n",
       "      <td>2</td>\n",
       "      <td>Taj Mahal</td>\n",
       "      <td>Uttar Pradesh</td>\n",
       "      <td>Historical</td>\n",
       "      <td>8.389206</td>\n",
       "      <td>Nov-Feb</td>\n",
       "    </tr>\n",
       "    <tr>\n",
       "      <th>3</th>\n",
       "      <td>4</td>\n",
       "      <td>470</td>\n",
       "      <td>3</td>\n",
       "      <td>2024-01-01</td>\n",
       "      <td>1</td>\n",
       "      <td>Arjun</td>\n",
       "      <td>arjun@example.com</td>\n",
       "      <td>Nature, Adventure</td>\n",
       "      <td>Male</td>\n",
       "      <td>2</td>\n",
       "      <td>1</td>\n",
       "      <td>Leh Ladakh</td>\n",
       "      <td>Jammu and Kashmir</td>\n",
       "      <td>Adventure</td>\n",
       "      <td>7.923388</td>\n",
       "      <td>Apr-Jun</td>\n",
       "    </tr>\n",
       "    <tr>\n",
       "      <th>4</th>\n",
       "      <td>5</td>\n",
       "      <td>989</td>\n",
       "      <td>2</td>\n",
       "      <td>2024-02-15</td>\n",
       "      <td>4</td>\n",
       "      <td>Ritvik</td>\n",
       "      <td>ritvik@example.com</td>\n",
       "      <td>Nature, Adventure</td>\n",
       "      <td>Male</td>\n",
       "      <td>2</td>\n",
       "      <td>1</td>\n",
       "      <td>Kerala Backwaters</td>\n",
       "      <td>Kerala</td>\n",
       "      <td>Nature</td>\n",
       "      <td>9.409146</td>\n",
       "      <td>Sep-Mar</td>\n",
       "    </tr>\n",
       "  </tbody>\n",
       "</table>\n",
       "</div>"
      ],
      "text/plain": [
       "   HistoryID  UserID  DestinationID   VisitDate  ExperienceRating NameUser  \\\n",
       "0          1     525              3  2024-01-01                 3   Saanvi   \n",
       "1          2     184              0  2024-02-15                 5   Ishaan   \n",
       "2          3     897              4  2024-03-20                 2    Pooja   \n",
       "3          4     470              3  2024-01-01                 1    Arjun   \n",
       "4          5     989              2  2024-02-15                 4   Ritvik   \n",
       "\n",
       "                Email          Preferences  Gender  NumberOfAdults  \\\n",
       "0  saanvi@example.com     City, Historical  Female               2   \n",
       "1  ishaan@example.com  Beaches, Historical    Male               1   \n",
       "2   pooja@example.com     City, Historical  Female               1   \n",
       "3   arjun@example.com    Nature, Adventure    Male               2   \n",
       "4  ritvik@example.com    Nature, Adventure    Male               2   \n",
       "\n",
       "   NumberOfChildren    NameDestination              State        Type  \\\n",
       "0                 2         Leh Ladakh  Jammu and Kashmir   Adventure   \n",
       "1                 2        Goa Beaches                Goa       Beach   \n",
       "2                 2          Taj Mahal      Uttar Pradesh  Historical   \n",
       "3                 1         Leh Ladakh  Jammu and Kashmir   Adventure   \n",
       "4                 1  Kerala Backwaters             Kerala      Nature   \n",
       "\n",
       "   Popularity BestTimeToVisit  \n",
       "0    8.352180         Apr-Jun  \n",
       "1    8.988127         Nov-Mar  \n",
       "2    8.389206         Nov-Feb  \n",
       "3    7.923388         Apr-Jun  \n",
       "4    9.409146         Sep-Mar  "
      ]
     },
     "execution_count": 12,
     "metadata": {},
     "output_type": "execute_result"
    }
   ],
   "source": [
    "df_model.head()"
   ]
  },
  {
   "cell_type": "code",
   "execution_count": 13,
   "id": "68a654e7",
   "metadata": {
    "_cell_guid": "e0a6d7a6-59ea-476b-abaa-dda0cebffc06",
    "_uuid": "5c4ae17b-16e7-41b4-9123-0ae57eba3fa1",
    "collapsed": false,
    "execution": {
     "iopub.execute_input": "2025-06-30T17:05:11.995420Z",
     "iopub.status.busy": "2025-06-30T17:05:11.994569Z",
     "iopub.status.idle": "2025-06-30T17:05:11.999015Z",
     "shell.execute_reply": "2025-06-30T17:05:11.998136Z"
    },
    "jupyter": {
     "outputs_hidden": false
    },
    "papermill": {
     "duration": 0.014915,
     "end_time": "2025-06-30T17:05:12.000468",
     "exception": false,
     "start_time": "2025-06-30T17:05:11.985553",
     "status": "completed"
    },
    "tags": []
   },
   "outputs": [],
   "source": [
    "destination_name_mapper = {v: k for k, v in name_to_new_id.items()}"
   ]
  },
  {
   "cell_type": "code",
   "execution_count": 14,
   "id": "064e3330",
   "metadata": {
    "_cell_guid": "ec08badf-960f-4836-98b8-47522e786c88",
    "_uuid": "e9c4714c-58d0-4c53-b107-2d4aef93c4ba",
    "collapsed": false,
    "execution": {
     "iopub.execute_input": "2025-06-30T17:05:12.018581Z",
     "iopub.status.busy": "2025-06-30T17:05:12.017907Z",
     "iopub.status.idle": "2025-06-30T17:05:12.023618Z",
     "shell.execute_reply": "2025-06-30T17:05:12.022935Z"
    },
    "jupyter": {
     "outputs_hidden": false
    },
    "papermill": {
     "duration": 0.016121,
     "end_time": "2025-06-30T17:05:12.024967",
     "exception": false,
     "start_time": "2025-06-30T17:05:12.008846",
     "status": "completed"
    },
    "tags": []
   },
   "outputs": [
    {
     "data": {
      "text/plain": [
       "['destination_name_mapper.pkl']"
      ]
     },
     "execution_count": 14,
     "metadata": {},
     "output_type": "execute_result"
    }
   ],
   "source": [
    "joblib.dump(destination_name_mapper, \"destination_name_mapper.pkl\")"
   ]
  },
  {
   "cell_type": "code",
   "execution_count": 15,
   "id": "4b2e1973",
   "metadata": {
    "_cell_guid": "b75a5c0e-0ee0-4e4f-b9c8-40f7ec41eeae",
    "_uuid": "f2a77014-34c4-4c74-95ee-d86e12232bad",
    "collapsed": false,
    "execution": {
     "iopub.execute_input": "2025-06-30T17:05:12.106101Z",
     "iopub.status.busy": "2025-06-30T17:05:12.105433Z",
     "iopub.status.idle": "2025-06-30T17:05:12.122159Z",
     "shell.execute_reply": "2025-06-30T17:05:12.121495Z"
    },
    "jupyter": {
     "outputs_hidden": false
    },
    "papermill": {
     "duration": 0.02753,
     "end_time": "2025-06-30T17:05:12.123701",
     "exception": false,
     "start_time": "2025-06-30T17:05:12.096171",
     "status": "completed"
    },
    "tags": []
   },
   "outputs": [],
   "source": [
    "# --- Crear copia de trabajo ---\n",
    "df_multi_hot = df_model.copy()\n",
    "\n",
    "# --- Paso 1: Multi-hot encoding de Preferences ---\n",
    "df_multi_hot['Preferences'] = df_multi_hot['Preferences'].apply(\n",
    "    lambda x: [p.strip() for p in x.split(',')] if isinstance(x, str) else x\n",
    ")\n",
    "\n",
    "mlb = MultiLabelBinarizer()\n",
    "prefs_encoded = pd.DataFrame(\n",
    "    mlb.fit_transform(df_multi_hot['Preferences']),\n",
    "    columns=mlb.classes_,\n",
    "    index=df_multi_hot.index\n",
    ")\n",
    "\n",
    "# Concatenar multi-hot y eliminar Preferences\n",
    "df_multi_hot = pd.concat([df_multi_hot.drop(columns='Preferences'), prefs_encoded], axis=1)\n",
    "\n",
    "# Guardar el codificador para uso futuro\n",
    "joblib.dump(mlb, \"mlb_preferences.pkl\")\n",
    "\n",
    "# --- Paso 2: Dropear columnas irrelevantes ---\n",
    "cols_to_drop = [\"HistoryID\", \"NameUser\", \"Email\", \"NameDestination\", \"BestTimeToVisit\", \"State\"]\n",
    "df_multi_hot = df_multi_hot.drop(columns=[col for col in cols_to_drop if col in df_multi_hot.columns])"
   ]
  },
  {
   "cell_type": "code",
   "execution_count": 16,
   "id": "12bef26b",
   "metadata": {
    "_cell_guid": "abcb5fe3-5d43-45d5-a01e-6b9d837ac23f",
    "_uuid": "1b5c43a2-71df-4004-a592-f593ec806da0",
    "collapsed": false,
    "execution": {
     "iopub.execute_input": "2025-06-30T17:05:12.142333Z",
     "iopub.status.busy": "2025-06-30T17:05:12.142027Z",
     "iopub.status.idle": "2025-06-30T17:05:12.153708Z",
     "shell.execute_reply": "2025-06-30T17:05:12.152997Z"
    },
    "jupyter": {
     "outputs_hidden": false
    },
    "papermill": {
     "duration": 0.022293,
     "end_time": "2025-06-30T17:05:12.154978",
     "exception": false,
     "start_time": "2025-06-30T17:05:12.132685",
     "status": "completed"
    },
    "tags": []
   },
   "outputs": [
    {
     "data": {
      "text/html": [
       "<div>\n",
       "<style scoped>\n",
       "    .dataframe tbody tr th:only-of-type {\n",
       "        vertical-align: middle;\n",
       "    }\n",
       "\n",
       "    .dataframe tbody tr th {\n",
       "        vertical-align: top;\n",
       "    }\n",
       "\n",
       "    .dataframe thead th {\n",
       "        text-align: right;\n",
       "    }\n",
       "</style>\n",
       "<table border=\"1\" class=\"dataframe\">\n",
       "  <thead>\n",
       "    <tr style=\"text-align: right;\">\n",
       "      <th></th>\n",
       "      <th>UserID</th>\n",
       "      <th>DestinationID</th>\n",
       "      <th>VisitDate</th>\n",
       "      <th>ExperienceRating</th>\n",
       "      <th>Gender</th>\n",
       "      <th>NumberOfAdults</th>\n",
       "      <th>NumberOfChildren</th>\n",
       "      <th>Type</th>\n",
       "      <th>Popularity</th>\n",
       "      <th>Adventure</th>\n",
       "      <th>Beaches</th>\n",
       "      <th>City</th>\n",
       "      <th>Historical</th>\n",
       "      <th>Nature</th>\n",
       "    </tr>\n",
       "  </thead>\n",
       "  <tbody>\n",
       "    <tr>\n",
       "      <th>0</th>\n",
       "      <td>525</td>\n",
       "      <td>3</td>\n",
       "      <td>2024-01-01</td>\n",
       "      <td>3</td>\n",
       "      <td>Female</td>\n",
       "      <td>2</td>\n",
       "      <td>2</td>\n",
       "      <td>Adventure</td>\n",
       "      <td>8.352180</td>\n",
       "      <td>0</td>\n",
       "      <td>0</td>\n",
       "      <td>1</td>\n",
       "      <td>1</td>\n",
       "      <td>0</td>\n",
       "    </tr>\n",
       "    <tr>\n",
       "      <th>1</th>\n",
       "      <td>184</td>\n",
       "      <td>0</td>\n",
       "      <td>2024-02-15</td>\n",
       "      <td>5</td>\n",
       "      <td>Male</td>\n",
       "      <td>1</td>\n",
       "      <td>2</td>\n",
       "      <td>Beach</td>\n",
       "      <td>8.988127</td>\n",
       "      <td>0</td>\n",
       "      <td>1</td>\n",
       "      <td>0</td>\n",
       "      <td>1</td>\n",
       "      <td>0</td>\n",
       "    </tr>\n",
       "    <tr>\n",
       "      <th>2</th>\n",
       "      <td>897</td>\n",
       "      <td>4</td>\n",
       "      <td>2024-03-20</td>\n",
       "      <td>2</td>\n",
       "      <td>Female</td>\n",
       "      <td>1</td>\n",
       "      <td>2</td>\n",
       "      <td>Historical</td>\n",
       "      <td>8.389206</td>\n",
       "      <td>0</td>\n",
       "      <td>0</td>\n",
       "      <td>1</td>\n",
       "      <td>1</td>\n",
       "      <td>0</td>\n",
       "    </tr>\n",
       "    <tr>\n",
       "      <th>3</th>\n",
       "      <td>470</td>\n",
       "      <td>3</td>\n",
       "      <td>2024-01-01</td>\n",
       "      <td>1</td>\n",
       "      <td>Male</td>\n",
       "      <td>2</td>\n",
       "      <td>1</td>\n",
       "      <td>Adventure</td>\n",
       "      <td>7.923388</td>\n",
       "      <td>1</td>\n",
       "      <td>0</td>\n",
       "      <td>0</td>\n",
       "      <td>0</td>\n",
       "      <td>1</td>\n",
       "    </tr>\n",
       "    <tr>\n",
       "      <th>4</th>\n",
       "      <td>989</td>\n",
       "      <td>2</td>\n",
       "      <td>2024-02-15</td>\n",
       "      <td>4</td>\n",
       "      <td>Male</td>\n",
       "      <td>2</td>\n",
       "      <td>1</td>\n",
       "      <td>Nature</td>\n",
       "      <td>9.409146</td>\n",
       "      <td>1</td>\n",
       "      <td>0</td>\n",
       "      <td>0</td>\n",
       "      <td>0</td>\n",
       "      <td>1</td>\n",
       "    </tr>\n",
       "  </tbody>\n",
       "</table>\n",
       "</div>"
      ],
      "text/plain": [
       "   UserID  DestinationID   VisitDate  ExperienceRating  Gender  \\\n",
       "0     525              3  2024-01-01                 3  Female   \n",
       "1     184              0  2024-02-15                 5    Male   \n",
       "2     897              4  2024-03-20                 2  Female   \n",
       "3     470              3  2024-01-01                 1    Male   \n",
       "4     989              2  2024-02-15                 4    Male   \n",
       "\n",
       "   NumberOfAdults  NumberOfChildren        Type  Popularity  Adventure  \\\n",
       "0               2                 2   Adventure    8.352180          0   \n",
       "1               1                 2       Beach    8.988127          0   \n",
       "2               1                 2  Historical    8.389206          0   \n",
       "3               2                 1   Adventure    7.923388          1   \n",
       "4               2                 1      Nature    9.409146          1   \n",
       "\n",
       "   Beaches  City  Historical  Nature  \n",
       "0        0     1           1       0  \n",
       "1        1     0           1       0  \n",
       "2        0     1           1       0  \n",
       "3        0     0           0       1  \n",
       "4        0     0           0       1  "
      ]
     },
     "execution_count": 16,
     "metadata": {},
     "output_type": "execute_result"
    }
   ],
   "source": [
    "df_multi_hot.head()"
   ]
  },
  {
   "cell_type": "code",
   "execution_count": 17,
   "id": "a61a3091",
   "metadata": {
    "execution": {
     "iopub.execute_input": "2025-06-30T17:05:12.173451Z",
     "iopub.status.busy": "2025-06-30T17:05:12.173141Z",
     "iopub.status.idle": "2025-06-30T17:05:12.438751Z",
     "shell.execute_reply": "2025-06-30T17:05:12.437908Z"
    },
    "papermill": {
     "duration": 0.276278,
     "end_time": "2025-06-30T17:05:12.440036",
     "exception": false,
     "start_time": "2025-06-30T17:05:12.163758",
     "status": "completed"
    },
    "tags": []
   },
   "outputs": [
    {
     "data": {
      "image/png": "[encoded data removed]",
      "text/plain": [
       "<Figure size 640x480 with 1 Axes>"
      ]
     },
     "metadata": {},
     "output_type": "display_data"
    }
   ],
   "source": [
    "sns.countplot(x=\"ExperienceRating\", data=df_multi_hot, palette=\"viridis\")\n",
    "plt.title(\"Distribución de Calificaciones (ExperienceRating)\")\n",
    "plt.xlabel(\"Calificación\")\n",
    "plt.ylabel(\"Cantidad de visitas\")\n",
    "plt.show()"
   ]
  },
  {
   "cell_type": "code",
   "execution_count": 18,
   "id": "1ce8a248",
   "metadata": {
    "execution": {
     "iopub.execute_input": "2025-06-30T17:05:12.459634Z",
     "iopub.status.busy": "2025-06-30T17:05:12.459326Z",
     "iopub.status.idle": "2025-06-30T17:05:12.694070Z",
     "shell.execute_reply": "2025-06-30T17:05:12.693173Z"
    },
    "papermill": {
     "duration": 0.246396,
     "end_time": "2025-06-30T17:05:12.695768",
     "exception": false,
     "start_time": "2025-06-30T17:05:12.449372",
     "status": "completed"
    },
    "tags": []
   },
   "outputs": [
    {
     "data": {
      "image/png": "[encoded data removed]",
      "text/plain": [
       "<Figure size 800x500 with 1 Axes>"
      ]
     },
     "metadata": {},
     "output_type": "display_data"
    }
   ],
   "source": [
    "plt.figure(figsize=(8, 5))\n",
    "sns.boxplot(x=\"Type\", y=\"ExperienceRating\", data=df_multi_hot)\n",
    "plt.title(\"Distribución del Rating por Tipo de Destino\")\n",
    "plt.xlabel(\"Tipo de destino\")\n",
    "plt.ylabel(\"Rating\")\n",
    "plt.tight_layout()\n",
    "plt.show()"
   ]
  },
  {
   "cell_type": "code",
   "execution_count": 19,
   "id": "aafdd33b",
   "metadata": {
    "execution": {
     "iopub.execute_input": "2025-06-30T17:05:12.716816Z",
     "iopub.status.busy": "2025-06-30T17:05:12.716518Z",
     "iopub.status.idle": "2025-06-30T17:05:12.925127Z",
     "shell.execute_reply": "2025-06-30T17:05:12.924293Z"
    },
    "papermill": {
     "duration": 0.220805,
     "end_time": "2025-06-30T17:05:12.926753",
     "exception": false,
     "start_time": "2025-06-30T17:05:12.705948",
     "status": "completed"
    },
    "tags": []
   },
   "outputs": [
    {
     "data": {
      "image/png": "[encoded data removed]",
      "text/plain": [
       "<Figure size 640x480 with 1 Axes>"
      ]
     },
     "metadata": {},
     "output_type": "display_data"
    }
   ],
   "source": [
    "prefs = ['Adventure', 'Beaches', 'City', 'Historical', 'Nature']\n",
    "df_multi_hot[prefs].sum().sort_values().plot(kind=\"barh\", color=\"teal\")\n",
    "plt.title(\"Preferencias más comunes\")\n",
    "plt.xlabel(\"Cantidad de registros\")\n",
    "plt.show()"
   ]
  },
  {
   "cell_type": "code",
   "execution_count": 20,
   "id": "767b9526",
   "metadata": {
    "execution": {
     "iopub.execute_input": "2025-06-30T17:05:12.949526Z",
     "iopub.status.busy": "2025-06-30T17:05:12.949164Z",
     "iopub.status.idle": "2025-06-30T17:05:13.161729Z",
     "shell.execute_reply": "2025-06-30T17:05:13.160785Z"
    },
    "papermill": {
     "duration": 0.225822,
     "end_time": "2025-06-30T17:05:13.163361",
     "exception": false,
     "start_time": "2025-06-30T17:05:12.937539",
     "status": "completed"
    },
    "tags": []
   },
   "outputs": [
    {
     "data": {
      "image/png": "[encoded data removed]",
      "text/plain": [
       "<Figure size 640x480 with 1 Axes>"
      ]
     },
     "metadata": {},
     "output_type": "display_data"
    }
   ],
   "source": [
    "# Asegurar tipo datetime\n",
    "df_multi_hot['VisitDate'] = pd.to_datetime(df_multi_hot['VisitDate'], errors='coerce')\n",
    "df_multi_hot['VisitMonth'] = df_multi_hot['VisitDate'].dt.month\n",
    "\n",
    "# Contar por mes con todos los meses del 1 al 12\n",
    "month_counts = df_multi_hot['VisitMonth'].value_counts().reindex(range(1, 13), fill_value=0).sort_index()\n",
    "\n",
    "# Plot\n",
    "sns.barplot(x=month_counts.index, y=month_counts.values, palette=\"coolwarm\")\n",
    "plt.title(\"Distribución de visitas por mes\")\n",
    "plt.xlabel(\"Mes\")\n",
    "plt.ylabel(\"Cantidad de registros\")\n",
    "plt.xticks(ticks=range(0, 12), labels=[\"Ene\", \"Feb\", \"Mar\", \"Abr\", \"May\", \"Jun\", \n",
    "                                       \"Jul\", \"Ago\", \"Sep\", \"Oct\", \"Nov\", \"Dic\"])\n",
    "plt.show()"
   ]
  },
  {
   "cell_type": "code",
   "execution_count": 21,
   "id": "0218d7af",
   "metadata": {
    "_cell_guid": "18503193-0e3a-4d8c-b0a7-d43aeb8a1c83",
    "_uuid": "e3fe804e-0339-4932-94f8-0e9feaef6382",
    "collapsed": false,
    "execution": {
     "iopub.execute_input": "2025-06-30T17:05:13.187555Z",
     "iopub.status.busy": "2025-06-30T17:05:13.186881Z",
     "iopub.status.idle": "2025-06-30T17:05:13.213941Z",
     "shell.execute_reply": "2025-06-30T17:05:13.213248Z"
    },
    "jupyter": {
     "outputs_hidden": false
    },
    "papermill": {
     "duration": 0.040848,
     "end_time": "2025-06-30T17:05:13.215689",
     "exception": false,
     "start_time": "2025-06-30T17:05:13.174841",
     "status": "completed"
    },
    "tags": []
   },
   "outputs": [],
   "source": [
    "# Crear copia de trabajo\n",
    "df_cyclic = df_multi_hot.copy()\n",
    "\n",
    "# Asegurar formato datetime\n",
    "df_cyclic['VisitDate'] = pd.to_datetime(df_cyclic['VisitDate'], errors='coerce')\n",
    "\n",
    "# Extraer mes y calcular codificación cíclica\n",
    "df_cyclic['VisitMonth'] = df_cyclic['VisitDate'].dt.month\n",
    "df_cyclic['Month_sin'] = np.sin(2 * np.pi * df_cyclic['VisitMonth'] / 12)\n",
    "df_cyclic['Month_cos'] = np.cos(2 * np.pi * df_cyclic['VisitMonth'] / 12)\n",
    "\n",
    "# Eliminar columnas originales de fecha\n",
    "df_cyclic = df_cyclic.drop(columns=['VisitDate', 'VisitMonth'])"
   ]
  },
  {
   "cell_type": "code",
   "execution_count": 22,
   "id": "a0870aa4",
   "metadata": {
    "_cell_guid": "9112e25f-6047-45a4-94e4-66a08745f71b",
    "_uuid": "29d50c03-e6d9-4f7c-b591-c6b2fc9e8dd6",
    "collapsed": false,
    "execution": {
     "iopub.execute_input": "2025-06-30T17:05:13.239751Z",
     "iopub.status.busy": "2025-06-30T17:05:13.239454Z",
     "iopub.status.idle": "2025-06-30T17:05:13.251943Z",
     "shell.execute_reply": "2025-06-30T17:05:13.251152Z"
    },
    "jupyter": {
     "outputs_hidden": false
    },
    "papermill": {
     "duration": 0.026173,
     "end_time": "2025-06-30T17:05:13.253429",
     "exception": false,
     "start_time": "2025-06-30T17:05:13.227256",
     "status": "completed"
    },
    "tags": []
   },
   "outputs": [
    {
     "data": {
      "text/html": [
       "<div>\n",
       "<style scoped>\n",
       "    .dataframe tbody tr th:only-of-type {\n",
       "        vertical-align: middle;\n",
       "    }\n",
       "\n",
       "    .dataframe tbody tr th {\n",
       "        vertical-align: top;\n",
       "    }\n",
       "\n",
       "    .dataframe thead th {\n",
       "        text-align: right;\n",
       "    }\n",
       "</style>\n",
       "<table border=\"1\" class=\"dataframe\">\n",
       "  <thead>\n",
       "    <tr style=\"text-align: right;\">\n",
       "      <th></th>\n",
       "      <th>UserID</th>\n",
       "      <th>DestinationID</th>\n",
       "      <th>ExperienceRating</th>\n",
       "      <th>Gender</th>\n",
       "      <th>NumberOfAdults</th>\n",
       "      <th>NumberOfChildren</th>\n",
       "      <th>Type</th>\n",
       "      <th>Popularity</th>\n",
       "      <th>Adventure</th>\n",
       "      <th>Beaches</th>\n",
       "      <th>City</th>\n",
       "      <th>Historical</th>\n",
       "      <th>Nature</th>\n",
       "      <th>Month_sin</th>\n",
       "      <th>Month_cos</th>\n",
       "    </tr>\n",
       "  </thead>\n",
       "  <tbody>\n",
       "    <tr>\n",
       "      <th>0</th>\n",
       "      <td>525</td>\n",
       "      <td>3</td>\n",
       "      <td>3</td>\n",
       "      <td>Female</td>\n",
       "      <td>2</td>\n",
       "      <td>2</td>\n",
       "      <td>Adventure</td>\n",
       "      <td>8.352180</td>\n",
       "      <td>0</td>\n",
       "      <td>0</td>\n",
       "      <td>1</td>\n",
       "      <td>1</td>\n",
       "      <td>0</td>\n",
       "      <td>0.500000</td>\n",
       "      <td>8.660254e-01</td>\n",
       "    </tr>\n",
       "    <tr>\n",
       "      <th>1</th>\n",
       "      <td>184</td>\n",
       "      <td>0</td>\n",
       "      <td>5</td>\n",
       "      <td>Male</td>\n",
       "      <td>1</td>\n",
       "      <td>2</td>\n",
       "      <td>Beach</td>\n",
       "      <td>8.988127</td>\n",
       "      <td>0</td>\n",
       "      <td>1</td>\n",
       "      <td>0</td>\n",
       "      <td>1</td>\n",
       "      <td>0</td>\n",
       "      <td>0.866025</td>\n",
       "      <td>5.000000e-01</td>\n",
       "    </tr>\n",
       "    <tr>\n",
       "      <th>2</th>\n",
       "      <td>897</td>\n",
       "      <td>4</td>\n",
       "      <td>2</td>\n",
       "      <td>Female</td>\n",
       "      <td>1</td>\n",
       "      <td>2</td>\n",
       "      <td>Historical</td>\n",
       "      <td>8.389206</td>\n",
       "      <td>0</td>\n",
       "      <td>0</td>\n",
       "      <td>1</td>\n",
       "      <td>1</td>\n",
       "      <td>0</td>\n",
       "      <td>1.000000</td>\n",
       "      <td>6.123234e-17</td>\n",
       "    </tr>\n",
       "    <tr>\n",
       "      <th>3</th>\n",
       "      <td>470</td>\n",
       "      <td>3</td>\n",
       "      <td>1</td>\n",
       "      <td>Male</td>\n",
       "      <td>2</td>\n",
       "      <td>1</td>\n",
       "      <td>Adventure</td>\n",
       "      <td>7.923388</td>\n",
       "      <td>1</td>\n",
       "      <td>0</td>\n",
       "      <td>0</td>\n",
       "      <td>0</td>\n",
       "      <td>1</td>\n",
       "      <td>0.500000</td>\n",
       "      <td>8.660254e-01</td>\n",
       "    </tr>\n",
       "    <tr>\n",
       "      <th>4</th>\n",
       "      <td>989</td>\n",
       "      <td>2</td>\n",
       "      <td>4</td>\n",
       "      <td>Male</td>\n",
       "      <td>2</td>\n",
       "      <td>1</td>\n",
       "      <td>Nature</td>\n",
       "      <td>9.409146</td>\n",
       "      <td>1</td>\n",
       "      <td>0</td>\n",
       "      <td>0</td>\n",
       "      <td>0</td>\n",
       "      <td>1</td>\n",
       "      <td>0.866025</td>\n",
       "      <td>5.000000e-01</td>\n",
       "    </tr>\n",
       "  </tbody>\n",
       "</table>\n",
       "</div>"
      ],
      "text/plain": [
       "   UserID  DestinationID  ExperienceRating  Gender  NumberOfAdults  \\\n",
       "0     525              3                 3  Female               2   \n",
       "1     184              0                 5    Male               1   \n",
       "2     897              4                 2  Female               1   \n",
       "3     470              3                 1    Male               2   \n",
       "4     989              2                 4    Male               2   \n",
       "\n",
       "   NumberOfChildren        Type  Popularity  Adventure  Beaches  City  \\\n",
       "0                 2   Adventure    8.352180          0        0     1   \n",
       "1                 2       Beach    8.988127          0        1     0   \n",
       "2                 2  Historical    8.389206          0        0     1   \n",
       "3                 1   Adventure    7.923388          1        0     0   \n",
       "4                 1      Nature    9.409146          1        0     0   \n",
       "\n",
       "   Historical  Nature  Month_sin     Month_cos  \n",
       "0           1       0   0.500000  8.660254e-01  \n",
       "1           1       0   0.866025  5.000000e-01  \n",
       "2           1       0   1.000000  6.123234e-17  \n",
       "3           0       1   0.500000  8.660254e-01  \n",
       "4           0       1   0.866025  5.000000e-01  "
      ]
     },
     "execution_count": 22,
     "metadata": {},
     "output_type": "execute_result"
    }
   ],
   "source": [
    "df_cyclic.head()"
   ]
  },
  {
   "cell_type": "code",
   "execution_count": 23,
   "id": "177d73fc",
   "metadata": {
    "_cell_guid": "37b4f9f3-79d4-4be6-85d3-430ad232969d",
    "_uuid": "f51f755f-cf60-404f-b658-c1da479e66f3",
    "collapsed": false,
    "execution": {
     "iopub.execute_input": "2025-06-30T17:05:13.277812Z",
     "iopub.status.busy": "2025-06-30T17:05:13.277514Z",
     "iopub.status.idle": "2025-06-30T17:05:13.292281Z",
     "shell.execute_reply": "2025-06-30T17:05:13.291536Z"
    },
    "jupyter": {
     "outputs_hidden": false
    },
    "papermill": {
     "duration": 0.028491,
     "end_time": "2025-06-30T17:05:13.293730",
     "exception": false,
     "start_time": "2025-06-30T17:05:13.265239",
     "status": "completed"
    },
    "tags": []
   },
   "outputs": [
    {
     "data": {
      "text/plain": [
       "['onehot_encoder.pkl']"
      ]
     },
     "execution_count": 23,
     "metadata": {},
     "output_type": "execute_result"
    }
   ],
   "source": [
    "# --- Crear copia de trabajo ---\n",
    "df_onehot = df_cyclic.copy()\n",
    "\n",
    "# --- Definir columnas a one-hot ---\n",
    "one_hot_cols = ['Gender', 'Type']\n",
    "\n",
    "# --- Aplicar OneHotEncoder ---\n",
    "encoder = OneHotEncoder(sparse=False, handle_unknown='ignore')\n",
    "encoded = encoder.fit_transform(df_onehot[one_hot_cols])\n",
    "\n",
    "# Crear DataFrame de columnas codificadas\n",
    "encoded_df = pd.DataFrame(\n",
    "    encoded,\n",
    "    columns=encoder.get_feature_names_out(one_hot_cols),\n",
    "    index=df_onehot.index\n",
    ")\n",
    "\n",
    "# --- Reemplazar solo las columnas originales ---\n",
    "df_onehot = pd.concat([df_onehot.drop(columns=one_hot_cols), encoded_df], axis=1)\n",
    "\n",
    "# --- Guardar el encoder para producción ---\n",
    "joblib.dump(encoder, \"onehot_encoder.pkl\")"
   ]
  },
  {
   "cell_type": "code",
   "execution_count": 24,
   "id": "a55ea9c7",
   "metadata": {
    "execution": {
     "iopub.execute_input": "2025-06-30T17:05:13.317918Z",
     "iopub.status.busy": "2025-06-30T17:05:13.317610Z",
     "iopub.status.idle": "2025-06-30T17:05:13.481846Z",
     "shell.execute_reply": "2025-06-30T17:05:13.481012Z"
    },
    "papermill": {
     "duration": 0.17807,
     "end_time": "2025-06-30T17:05:13.483260",
     "exception": false,
     "start_time": "2025-06-30T17:05:13.305190",
     "status": "completed"
    },
    "tags": []
   },
   "outputs": [
    {
     "data": {
      "image/png": "[encoded data removed]",
      "text/plain": [
       "<Figure size 640x480 with 1 Axes>"
      ]
     },
     "metadata": {},
     "output_type": "display_data"
    }
   ],
   "source": [
    "type_cols = [col for col in df_onehot.columns if col.startswith(\"Type_\")]\n",
    "\n",
    "df_onehot[type_cols].sum().sort_values().plot(\n",
    "    kind=\"barh\", \n",
    "    color=\"coral\"\n",
    ")\n",
    "plt.title(\"Tipos de destino más comunes\")\n",
    "plt.xlabel(\"Cantidad de registros\")\n",
    "plt.ylabel(\"Tipo de destino\")\n",
    "plt.show()"
   ]
  },
  {
   "cell_type": "code",
   "execution_count": 25,
   "id": "37913bce",
   "metadata": {
    "execution": {
     "iopub.execute_input": "2025-06-30T17:05:13.509584Z",
     "iopub.status.busy": "2025-06-30T17:05:13.509169Z",
     "iopub.status.idle": "2025-06-30T17:05:13.612429Z",
     "shell.execute_reply": "2025-06-30T17:05:13.611506Z"
    },
    "papermill": {
     "duration": 0.117974,
     "end_time": "2025-06-30T17:05:13.614085",
     "exception": false,
     "start_time": "2025-06-30T17:05:13.496111",
     "status": "completed"
    },
    "tags": []
   },
   "outputs": [
    {
     "data": {
      "image/png": "[encoded data removed]",
      "text/plain": [
       "<Figure size 640x480 with 1 Axes>"
      ]
     },
     "metadata": {},
     "output_type": "display_data"
    }
   ],
   "source": [
    "gender_cols = [col for col in df_onehot.columns if col.startswith(\"Gender_\")]\n",
    "\n",
    "df_onehot[gender_cols].sum().plot(\n",
    "    kind=\"pie\", \n",
    "    autopct='%1.1f%%', \n",
    "    startangle=90, \n",
    "    labels=gender_cols,\n",
    "    colors=[\"#66b3ff\", \"#ff9999\"]\n",
    ")\n",
    "plt.title(\"Distribución de Género\")\n",
    "plt.ylabel(\"\")\n",
    "plt.show()"
   ]
  },
  {
   "cell_type": "code",
   "execution_count": 26,
   "id": "4b1968e3",
   "metadata": {
    "_cell_guid": "7408c5c6-ab9e-4d52-b49e-9de6f0903b93",
    "_uuid": "71b26755-c628-4f80-ab2f-3e3dac931e2a",
    "collapsed": false,
    "execution": {
     "iopub.execute_input": "2025-06-30T17:05:13.641442Z",
     "iopub.status.busy": "2025-06-30T17:05:13.641101Z",
     "iopub.status.idle": "2025-06-30T17:05:13.653819Z",
     "shell.execute_reply": "2025-06-30T17:05:13.652709Z"
    },
    "jupyter": {
     "outputs_hidden": false
    },
    "papermill": {
     "duration": 0.028055,
     "end_time": "2025-06-30T17:05:13.655358",
     "exception": false,
     "start_time": "2025-06-30T17:05:13.627303",
     "status": "completed"
    },
    "tags": []
   },
   "outputs": [
    {
     "data": {
      "text/plain": [
       "['scaler_recomendacion.pkl']"
      ]
     },
     "execution_count": 26,
     "metadata": {},
     "output_type": "execute_result"
    }
   ],
   "source": [
    "# --- Crear copia final de trabajo ---\n",
    "df_final = df_onehot.copy()\n",
    "\n",
    "# --- Definir columnas a normalizar ---\n",
    "numeric_cols = ['NumberOfAdults', 'NumberOfChildren', 'Popularity', 'Month_sin', 'Month_cos']\n",
    "\n",
    "# --- Aplicar MinMaxScaler solo a esas columnas ---\n",
    "scaler = MinMaxScaler()\n",
    "df_final[numeric_cols] = scaler.fit_transform(df_final[numeric_cols])\n",
    "\n",
    "# --- Guardar scaler para usar en producción ---\n",
    "joblib.dump(scaler, \"scaler_recomendacion.pkl\")"
   ]
  },
  {
   "cell_type": "code",
   "execution_count": 27,
   "id": "3611087d",
   "metadata": {
    "_cell_guid": "bb122563-21b9-4f3f-941b-722b5ca5f3c1",
    "_uuid": "04d13b57-52ca-4025-b94c-e51176477751",
    "collapsed": false,
    "execution": {
     "iopub.execute_input": "2025-06-30T17:05:13.683385Z",
     "iopub.status.busy": "2025-06-30T17:05:13.683056Z",
     "iopub.status.idle": "2025-06-30T17:05:13.701162Z",
     "shell.execute_reply": "2025-06-30T17:05:13.700154Z"
    },
    "jupyter": {
     "outputs_hidden": false
    },
    "papermill": {
     "duration": 0.03325,
     "end_time": "2025-06-30T17:05:13.702601",
     "exception": false,
     "start_time": "2025-06-30T17:05:13.669351",
     "status": "completed"
    },
    "tags": []
   },
   "outputs": [
    {
     "data": {
      "text/html": [
       "<div>\n",
       "<style scoped>\n",
       "    .dataframe tbody tr th:only-of-type {\n",
       "        vertical-align: middle;\n",
       "    }\n",
       "\n",
       "    .dataframe tbody tr th {\n",
       "        vertical-align: top;\n",
       "    }\n",
       "\n",
       "    .dataframe thead th {\n",
       "        text-align: right;\n",
       "    }\n",
       "</style>\n",
       "<table border=\"1\" class=\"dataframe\">\n",
       "  <thead>\n",
       "    <tr style=\"text-align: right;\">\n",
       "      <th></th>\n",
       "      <th>UserID</th>\n",
       "      <th>DestinationID</th>\n",
       "      <th>ExperienceRating</th>\n",
       "      <th>NumberOfAdults</th>\n",
       "      <th>NumberOfChildren</th>\n",
       "      <th>Popularity</th>\n",
       "      <th>Adventure</th>\n",
       "      <th>Beaches</th>\n",
       "      <th>City</th>\n",
       "      <th>Historical</th>\n",
       "      <th>Nature</th>\n",
       "      <th>Month_sin</th>\n",
       "      <th>Month_cos</th>\n",
       "      <th>Gender_Female</th>\n",
       "      <th>Gender_Male</th>\n",
       "      <th>Type_Adventure</th>\n",
       "      <th>Type_Beach</th>\n",
       "      <th>Type_City</th>\n",
       "      <th>Type_Historical</th>\n",
       "      <th>Type_Nature</th>\n",
       "    </tr>\n",
       "  </thead>\n",
       "  <tbody>\n",
       "    <tr>\n",
       "      <th>0</th>\n",
       "      <td>525</td>\n",
       "      <td>3</td>\n",
       "      <td>3</td>\n",
       "      <td>1.0</td>\n",
       "      <td>1.0</td>\n",
       "      <td>0.424836</td>\n",
       "      <td>0</td>\n",
       "      <td>0</td>\n",
       "      <td>1</td>\n",
       "      <td>1</td>\n",
       "      <td>0</td>\n",
       "      <td>0.000000</td>\n",
       "      <td>1.00000</td>\n",
       "      <td>1.0</td>\n",
       "      <td>0.0</td>\n",
       "      <td>1.0</td>\n",
       "      <td>0.0</td>\n",
       "      <td>0.0</td>\n",
       "      <td>0.0</td>\n",
       "      <td>0.0</td>\n",
       "    </tr>\n",
       "    <tr>\n",
       "      <th>1</th>\n",
       "      <td>184</td>\n",
       "      <td>0</td>\n",
       "      <td>5</td>\n",
       "      <td>0.0</td>\n",
       "      <td>1.0</td>\n",
       "      <td>0.743557</td>\n",
       "      <td>0</td>\n",
       "      <td>1</td>\n",
       "      <td>0</td>\n",
       "      <td>1</td>\n",
       "      <td>0</td>\n",
       "      <td>0.732051</td>\n",
       "      <td>0.57735</td>\n",
       "      <td>0.0</td>\n",
       "      <td>1.0</td>\n",
       "      <td>0.0</td>\n",
       "      <td>1.0</td>\n",
       "      <td>0.0</td>\n",
       "      <td>0.0</td>\n",
       "      <td>0.0</td>\n",
       "    </tr>\n",
       "    <tr>\n",
       "      <th>2</th>\n",
       "      <td>897</td>\n",
       "      <td>4</td>\n",
       "      <td>2</td>\n",
       "      <td>0.0</td>\n",
       "      <td>1.0</td>\n",
       "      <td>0.443392</td>\n",
       "      <td>0</td>\n",
       "      <td>0</td>\n",
       "      <td>1</td>\n",
       "      <td>1</td>\n",
       "      <td>0</td>\n",
       "      <td>1.000000</td>\n",
       "      <td>0.00000</td>\n",
       "      <td>1.0</td>\n",
       "      <td>0.0</td>\n",
       "      <td>0.0</td>\n",
       "      <td>0.0</td>\n",
       "      <td>0.0</td>\n",
       "      <td>1.0</td>\n",
       "      <td>0.0</td>\n",
       "    </tr>\n",
       "    <tr>\n",
       "      <th>3</th>\n",
       "      <td>470</td>\n",
       "      <td>3</td>\n",
       "      <td>1</td>\n",
       "      <td>1.0</td>\n",
       "      <td>0.5</td>\n",
       "      <td>0.209936</td>\n",
       "      <td>1</td>\n",
       "      <td>0</td>\n",
       "      <td>0</td>\n",
       "      <td>0</td>\n",
       "      <td>1</td>\n",
       "      <td>0.000000</td>\n",
       "      <td>1.00000</td>\n",
       "      <td>0.0</td>\n",
       "      <td>1.0</td>\n",
       "      <td>1.0</td>\n",
       "      <td>0.0</td>\n",
       "      <td>0.0</td>\n",
       "      <td>0.0</td>\n",
       "      <td>0.0</td>\n",
       "    </tr>\n",
       "    <tr>\n",
       "      <th>4</th>\n",
       "      <td>989</td>\n",
       "      <td>2</td>\n",
       "      <td>4</td>\n",
       "      <td>1.0</td>\n",
       "      <td>0.5</td>\n",
       "      <td>0.954561</td>\n",
       "      <td>1</td>\n",
       "      <td>0</td>\n",
       "      <td>0</td>\n",
       "      <td>0</td>\n",
       "      <td>1</td>\n",
       "      <td>0.732051</td>\n",
       "      <td>0.57735</td>\n",
       "      <td>0.0</td>\n",
       "      <td>1.0</td>\n",
       "      <td>0.0</td>\n",
       "      <td>0.0</td>\n",
       "      <td>0.0</td>\n",
       "      <td>0.0</td>\n",
       "      <td>1.0</td>\n",
       "    </tr>\n",
       "  </tbody>\n",
       "</table>\n",
       "</div>"
      ],
      "text/plain": [
       "   UserID  DestinationID  ExperienceRating  NumberOfAdults  NumberOfChildren  \\\n",
       "0     525              3                 3             1.0               1.0   \n",
       "1     184              0                 5             0.0               1.0   \n",
       "2     897              4                 2             0.0               1.0   \n",
       "3     470              3                 1             1.0               0.5   \n",
       "4     989              2                 4             1.0               0.5   \n",
       "\n",
       "   Popularity  Adventure  Beaches  City  Historical  Nature  Month_sin  \\\n",
       "0    0.424836          0        0     1           1       0   0.000000   \n",
       "1    0.743557          0        1     0           1       0   0.732051   \n",
       "2    0.443392          0        0     1           1       0   1.000000   \n",
       "3    0.209936          1        0     0           0       1   0.000000   \n",
       "4    0.954561          1        0     0           0       1   0.732051   \n",
       "\n",
       "   Month_cos  Gender_Female  Gender_Male  Type_Adventure  Type_Beach  \\\n",
       "0    1.00000            1.0          0.0             1.0         0.0   \n",
       "1    0.57735            0.0          1.0             0.0         1.0   \n",
       "2    0.00000            1.0          0.0             0.0         0.0   \n",
       "3    1.00000            0.0          1.0             1.0         0.0   \n",
       "4    0.57735            0.0          1.0             0.0         0.0   \n",
       "\n",
       "   Type_City  Type_Historical  Type_Nature  \n",
       "0        0.0              0.0          0.0  \n",
       "1        0.0              0.0          0.0  \n",
       "2        0.0              1.0          0.0  \n",
       "3        0.0              0.0          0.0  \n",
       "4        0.0              0.0          1.0  "
      ]
     },
     "execution_count": 27,
     "metadata": {},
     "output_type": "execute_result"
    }
   ],
   "source": [
    "df_final.head()"
   ]
  },
  {
   "cell_type": "code",
   "execution_count": 28,
   "id": "f3f73362",
   "metadata": {
    "execution": {
     "iopub.execute_input": "2025-06-30T17:05:13.730878Z",
     "iopub.status.busy": "2025-06-30T17:05:13.730568Z",
     "iopub.status.idle": "2025-06-30T17:05:13.735891Z",
     "shell.execute_reply": "2025-06-30T17:05:13.735270Z"
    },
    "papermill": {
     "duration": 0.020775,
     "end_time": "2025-06-30T17:05:13.737088",
     "exception": false,
     "start_time": "2025-06-30T17:05:13.716313",
     "status": "completed"
    },
    "tags": []
   },
   "outputs": [
    {
     "data": {
      "text/plain": [
       "Index(['UserID', 'DestinationID', 'ExperienceRating', 'NumberOfAdults',\n",
       "       'NumberOfChildren', 'Popularity', 'Adventure', 'Beaches', 'City',\n",
       "       'Historical', 'Nature', 'Month_sin', 'Month_cos', 'Gender_Female',\n",
       "       'Gender_Male', 'Type_Adventure', 'Type_Beach', 'Type_City',\n",
       "       'Type_Historical', 'Type_Nature'],\n",
       "      dtype='object')"
      ]
     },
     "execution_count": 28,
     "metadata": {},
     "output_type": "execute_result"
    }
   ],
   "source": [
    "df_final.columns"
   ]
  },
  {
   "cell_type": "code",
   "execution_count": 29,
   "id": "b52a0a91",
   "metadata": {
    "execution": {
     "iopub.execute_input": "2025-06-30T17:05:13.765336Z",
     "iopub.status.busy": "2025-06-30T17:05:13.764980Z",
     "iopub.status.idle": "2025-06-30T17:05:14.106720Z",
     "shell.execute_reply": "2025-06-30T17:05:14.105701Z"
    },
    "papermill": {
     "duration": 0.358215,
     "end_time": "2025-06-30T17:05:14.108666",
     "exception": false,
     "start_time": "2025-06-30T17:05:13.750451",
     "status": "completed"
    },
    "tags": []
   },
   "outputs": [
    {
     "data": {
      "image/png": "[encoded data removed]",
      "text/plain": [
       "<Figure size 1000x800 with 1 Axes>"
      ]
     },
     "metadata": {},
     "output_type": "display_data"
    }
   ],
   "source": [
    "# Calcular correlaciones con la variable objetivo\n",
    "correlation_with_target = df_final.corr()[\"ExperienceRating\"].drop(\"ExperienceRating\")\n",
    "\n",
    "# Ordenar de mayor a menor (absoluto)\n",
    "correlation_sorted = correlation_with_target.reindex(\n",
    "    correlation_with_target.abs().sort_values(ascending=False).index\n",
    ")\n",
    "\n",
    "# Graficar\n",
    "plt.figure(figsize=(10, 8))\n",
    "sns.barplot(x=correlation_sorted.values, y=correlation_sorted.index, palette=\"coolwarm\")\n",
    "plt.title(\"Correlación de variables con ExperienceRating\")\n",
    "plt.xlabel(\"Coeficiente de correlación\")\n",
    "plt.ylabel(\"Variables\")\n",
    "plt.tight_layout()\n",
    "plt.show()"
   ]
  },
  {
   "cell_type": "code",
   "execution_count": 30,
   "id": "768fb868",
   "metadata": {
    "execution": {
     "iopub.execute_input": "2025-06-30T17:05:14.139775Z",
     "iopub.status.busy": "2025-06-30T17:05:14.139441Z",
     "iopub.status.idle": "2025-06-30T17:05:14.166838Z",
     "shell.execute_reply": "2025-06-30T17:05:14.165294Z"
    },
    "papermill": {
     "duration": 0.045023,
     "end_time": "2025-06-30T17:05:14.168674",
     "exception": false,
     "start_time": "2025-06-30T17:05:14.123651",
     "status": "completed"
    },
    "tags": []
   },
   "outputs": [
    {
     "name": "stdout",
     "output_type": "stream",
     "text": [
      "🔗 Top 25 correlaciones cruzadas entre variables:\n",
      "\n",
      "     Variable 1      Variable 2  Correlación\n",
      "      Adventure      Historical    -1.000000\n",
      "      Adventure          Nature     1.000000\n",
      "     Historical          Nature    -1.000000\n",
      "  Gender_Female     Gender_Male    -1.000000\n",
      "      Month_sin       Month_cos    -0.939071\n",
      "  DestinationID Type_Historical     0.709542\n",
      "  DestinationID      Type_Beach    -0.707795\n",
      "      Adventure            City    -0.503352\n",
      "           City          Nature    -0.503352\n",
      "           City      Historical     0.503352\n",
      "        Beaches            City    -0.503352\n",
      "        Beaches          Nature    -0.493274\n",
      "      Adventure         Beaches    -0.493274\n",
      "        Beaches      Historical     0.493274\n",
      "  DestinationID       Type_City    -0.357792\n",
      "  DestinationID  Type_Adventure     0.339137\n",
      "Type_Historical     Type_Nature    -0.266157\n",
      " Type_Adventure     Type_Nature    -0.262126\n",
      " Type_Adventure Type_Historical    -0.260550\n",
      "     Type_Beach     Type_Nature    -0.250773\n",
      "     Type_Beach Type_Historical    -0.249265\n",
      "      Type_City     Type_Nature    -0.246690\n",
      " Type_Adventure      Type_Beach    -0.245490\n",
      "      Type_City Type_Historical    -0.245207\n",
      " Type_Adventure       Type_City    -0.241493\n"
     ]
    }
   ],
   "source": [
    "# Calcular matriz de correlación\n",
    "corr = df_final.corr().copy()\n",
    "\n",
    "# Eliminar la columna y fila de ExperienceRating\n",
    "corr = corr.drop(\"ExperienceRating\", axis=0).drop(\"ExperienceRating\", axis=1)\n",
    "\n",
    "# Convertir a un DataFrame plano con pares de variables\n",
    "corr_pairs = corr.where(np.triu(np.ones(corr.shape), k=1).astype(bool))\n",
    "corr_flat = corr_pairs.stack().reset_index()\n",
    "corr_flat.columns = ['Variable 1', 'Variable 2', 'Correlación']\n",
    "\n",
    "# Ordenar por la magnitud de la correlación (valor absoluto)\n",
    "corr_flat['AbsCorr'] = corr_flat['Correlación'].abs()\n",
    "top_corrs = corr_flat.sort_values(by='AbsCorr', ascending=False).drop(columns=\"AbsCorr\").head(25)\n",
    "\n",
    "# Mostrar\n",
    "print(\"🔗 Top 25 correlaciones cruzadas entre variables:\\n\")\n",
    "print(top_corrs.to_string(index=False))"
   ]
  },
  {
   "cell_type": "code",
   "execution_count": 31,
   "id": "1942e6a5",
   "metadata": {
    "execution": {
     "iopub.execute_input": "2025-06-30T17:05:14.200582Z",
     "iopub.status.busy": "2025-06-30T17:05:14.200204Z",
     "iopub.status.idle": "2025-06-30T17:05:14.207003Z",
     "shell.execute_reply": "2025-06-30T17:05:14.206180Z"
    },
    "papermill": {
     "duration": 0.024411,
     "end_time": "2025-06-30T17:05:14.208530",
     "exception": false,
     "start_time": "2025-06-30T17:05:14.184119",
     "status": "completed"
    },
    "tags": []
   },
   "outputs": [
    {
     "data": {
      "text/plain": [
       "['column_order.pkl']"
      ]
     },
     "execution_count": 31,
     "metadata": {},
     "output_type": "execute_result"
    }
   ],
   "source": [
    "joblib.dump(df_final.columns.tolist(), \"column_order.pkl\")"
   ]
  },
  {
   "cell_type": "code",
   "execution_count": 32,
   "id": "40af85a0",
   "metadata": {
    "_cell_guid": "9caa03a5-978b-447c-8b4d-aed797894b51",
    "_uuid": "dbd0b8a1-960c-4117-92a1-1515dcc7e8be",
    "collapsed": false,
    "execution": {
     "iopub.execute_input": "2025-06-30T17:05:14.241135Z",
     "iopub.status.busy": "2025-06-30T17:05:14.240834Z",
     "iopub.status.idle": "2025-06-30T17:05:14.268021Z",
     "shell.execute_reply": "2025-06-30T17:05:14.266983Z"
    },
    "jupyter": {
     "outputs_hidden": false
    },
    "papermill": {
     "duration": 0.044718,
     "end_time": "2025-06-30T17:05:14.269764",
     "exception": false,
     "start_time": "2025-06-30T17:05:14.225046",
     "status": "completed"
    },
    "tags": []
   },
   "outputs": [
    {
     "name": "stdout",
     "output_type": "stream",
     "text": [
      "🔍 Dimensiones del DataFrame: (999, 20)\n",
      "🧱 Columnas: ['UserID', 'DestinationID', 'ExperienceRating', 'NumberOfAdults', 'NumberOfChildren', 'Popularity', 'Adventure', 'Beaches', 'City', 'Historical', 'Nature', 'Month_sin', 'Month_cos', 'Gender_Female', 'Gender_Male', 'Type_Adventure', 'Type_Beach', 'Type_City', 'Type_Historical', 'Type_Nature']\n",
      "\n",
      "❓ Valores nulos por columna:\n",
      "UserID              0\n",
      "DestinationID       0\n",
      "ExperienceRating    0\n",
      "NumberOfAdults      0\n",
      "NumberOfChildren    0\n",
      "Popularity          0\n",
      "Adventure           0\n",
      "Beaches             0\n",
      "City                0\n",
      "Historical          0\n",
      "Nature              0\n",
      "Month_sin           0\n",
      "Month_cos           0\n",
      "Gender_Female       0\n",
      "Gender_Male         0\n",
      "Type_Adventure      0\n",
      "Type_Beach          0\n",
      "Type_City           0\n",
      "Type_Historical     0\n",
      "Type_Nature         0\n",
      "dtype: int64\n",
      "\n",
      "🔠 Tipos de datos:\n",
      "UserID                int64\n",
      "DestinationID         int64\n",
      "ExperienceRating      int64\n",
      "NumberOfAdults      float64\n",
      "NumberOfChildren    float64\n",
      "Popularity          float64\n",
      "Adventure             int64\n",
      "Beaches               int64\n",
      "City                  int64\n",
      "Historical            int64\n",
      "Nature                int64\n",
      "Month_sin           float64\n",
      "Month_cos           float64\n",
      "Gender_Female       float64\n",
      "Gender_Male         float64\n",
      "Type_Adventure      float64\n",
      "Type_Beach          float64\n",
      "Type_City           float64\n",
      "Type_Historical     float64\n",
      "Type_Nature         float64\n",
      "dtype: object\n",
      "\n",
      "📈 Rango de columnas numéricas normalizadas:\n",
      "     NumberOfAdults  NumberOfChildren  Popularity  Month_sin  Month_cos\n",
      "min             0.0               0.0         0.0        0.0        0.0\n",
      "max             1.0               1.0         1.0        1.0        1.0\n",
      "\n",
      "✅ Verificando consistencia de columnas one-hot:\n",
      "✔️ OK: columnas 'Gender_' suman 1 por fila\n",
      "✔️ OK: columnas 'Type_' suman 1 por fila\n",
      "\n",
      "🎯 Distribución de etiquetas (ExperienceRating):\n",
      "ExperienceRating\n",
      "1    206\n",
      "2    228\n",
      "3    201\n",
      "4    183\n",
      "5    181\n",
      "Name: count, dtype: int64\n"
     ]
    }
   ],
   "source": [
    "# --- 1. Ver estructura general ---\n",
    "print(\"🔍 Dimensiones del DataFrame:\", df_final.shape)\n",
    "print(\"🧱 Columnas:\", df_final.columns.tolist())\n",
    "\n",
    "# --- 2. Verifica valores nulos ---\n",
    "print(\"\\n❓ Valores nulos por columna:\")\n",
    "print(df_final.isnull().sum())\n",
    "\n",
    "# --- 3. Verifica tipos de datos ---\n",
    "print(\"\\n🔠 Tipos de datos:\")\n",
    "print(df_final.dtypes)\n",
    "\n",
    "# --- 4. Verifica rango de columnas normalizadas ---\n",
    "numeric_cols = ['NumberOfAdults', 'NumberOfChildren', 'Popularity', 'Month_sin', 'Month_cos']\n",
    "print(\"\\n📈 Rango de columnas numéricas normalizadas:\")\n",
    "print(df_final[numeric_cols].describe().loc[['min', 'max']])\n",
    "\n",
    "# --- 5. Verifica consistencia en columnas one-hot ---\n",
    "onehot_prefixes = ['Gender_', 'Type_']\n",
    "print(\"\\n✅ Verificando consistencia de columnas one-hot:\")\n",
    "for prefix in onehot_prefixes:\n",
    "    cols = [col for col in df_final.columns if col.startswith(prefix)]\n",
    "    sums = df_final[cols].sum(axis=1)\n",
    "    if not ((sums == 1).all()):\n",
    "        print(f\"⚠️ Inconsistencia en columnas con prefijo '{prefix}' (valores ≠ 1 por fila)\")\n",
    "    else:\n",
    "        print(f\"✔️ OK: columnas '{prefix}' suman 1 por fila\")\n",
    "\n",
    "# --- 6. Verifica valores en target si ya está incluido ---\n",
    "if 'ExperienceRating' in df_final.columns:\n",
    "    print(\"\\n🎯 Distribución de etiquetas (ExperienceRating):\")\n",
    "    print(df_final['ExperienceRating'].value_counts().sort_index())"
   ]
  },
  {
   "cell_type": "code",
   "execution_count": null,
   "id": "3028e818",
   "metadata": {
    "papermill": {
     "duration": 0.015269,
     "end_time": "2025-06-30T17:05:14.300125",
     "exception": false,
     "start_time": "2025-06-30T17:05:14.284856",
     "status": "completed"
    },
    "tags": []
   },
   "outputs": [],
   "source": []
  },
  {
   "cell_type": "markdown",
   "id": "1c157ae3",
   "metadata": {
    "_cell_guid": "10ddc347-43a6-46ab-8178-2419cbe4754c",
    "_uuid": "1a73df8a-1aa5-40a2-9a0c-04d889095e90",
    "collapsed": false,
    "jupyter": {
     "outputs_hidden": false
    },
    "papermill": {
     "duration": 0.014936,
     "end_time": "2025-06-30T17:05:14.330093",
     "exception": false,
     "start_time": "2025-06-30T17:05:14.315157",
     "status": "completed"
    },
    "tags": []
   },
   "source": [
    "## Ejemplo de uso en producción"
   ]
  },
  {
   "cell_type": "code",
   "execution_count": 33,
   "id": "d74ca1a2",
   "metadata": {
    "_cell_guid": "f4bd74f7-ebec-4dd3-bb61-5d6798cfb5cc",
    "_uuid": "eb48be2f-3216-4644-b9b2-59d2c9bda410",
    "collapsed": false,
    "execution": {
     "iopub.execute_input": "2025-06-30T17:05:14.361330Z",
     "iopub.status.busy": "2025-06-30T17:05:14.360990Z",
     "iopub.status.idle": "2025-06-30T17:05:14.370373Z",
     "shell.execute_reply": "2025-06-30T17:05:14.369104Z"
    },
    "jupyter": {
     "outputs_hidden": false
    },
    "papermill": {
     "duration": 0.026832,
     "end_time": "2025-06-30T17:05:14.371823",
     "exception": false,
     "start_time": "2025-06-30T17:05:14.344991",
     "status": "completed"
    },
    "tags": []
   },
   "outputs": [],
   "source": [
    "def transform_row_for_model(row, mlb, encoder, scaler, column_order):\n",
    "    import pandas as pd\n",
    "    import numpy as np\n",
    "\n",
    "    row = row.copy()\n",
    "    row = pd.DataFrame([row]) if isinstance(row, pd.Series) else row\n",
    "\n",
    "    # --- Preferences a multi-hot ---\n",
    "    row['Preferences'] = row['Preferences'].apply(lambda x: [p.strip() for p in x.split(',')] if isinstance(x, str) else x)\n",
    "    prefs = pd.DataFrame(mlb.transform(row['Preferences']), columns=mlb.classes_, index=row.index)\n",
    "\n",
    "    # --- Codificación cíclica de fecha ---\n",
    "    row['VisitDate'] = pd.to_datetime(row['VisitDate'], errors='coerce')\n",
    "    row['VisitMonth'] = row['VisitDate'].dt.month\n",
    "    row['Month_sin'] = np.sin(2 * np.pi * row['VisitMonth'] / 12)\n",
    "    row['Month_cos'] = np.cos(2 * np.pi * row['VisitMonth'] / 12)\n",
    "\n",
    "    # --- Normalización ---\n",
    "    numeric_cols = ['NumberOfAdults', 'NumberOfChildren', 'Popularity', 'Month_sin', 'Month_cos']\n",
    "    row[numeric_cols] = scaler.transform(row[numeric_cols])\n",
    "\n",
    "    # --- One-hot ---\n",
    "    one_hot_cols = ['Gender', 'Type']\n",
    "    onehot = encoder.transform(row[one_hot_cols])\n",
    "    onehot_df = pd.DataFrame(onehot, columns=encoder.get_feature_names_out(one_hot_cols), index=row.index)\n",
    "\n",
    "    # --- Concatenar ---\n",
    "    base_cols = ['UserID', 'DestinationID', 'ExperienceRating'] + numeric_cols\n",
    "    transformed = pd.concat([row[base_cols], prefs, onehot_df], axis=1)\n",
    "\n",
    "    # --- Ordenar columnas según entrenamiento ---\n",
    "    transformed = transformed[column_order]\n",
    "\n",
    "    return transformed"
   ]
  },
  {
   "cell_type": "code",
   "execution_count": 34,
   "id": "4efa9790",
   "metadata": {
    "execution": {
     "iopub.execute_input": "2025-06-30T17:05:14.404346Z",
     "iopub.status.busy": "2025-06-30T17:05:14.404018Z",
     "iopub.status.idle": "2025-06-30T17:05:14.410888Z",
     "shell.execute_reply": "2025-06-30T17:05:14.409933Z"
    },
    "papermill": {
     "duration": 0.024822,
     "end_time": "2025-06-30T17:05:14.412472",
     "exception": false,
     "start_time": "2025-06-30T17:05:14.387650",
     "status": "completed"
    },
    "tags": []
   },
   "outputs": [],
   "source": [
    "mlb = joblib.load(\"/kaggle/working/mlb_preferences.pkl\")\n",
    "encoder = joblib.load(\"/kaggle/working/onehot_encoder.pkl\")\n",
    "scaler = joblib.load(\"/kaggle/working/scaler_recomendacion.pkl\")\n",
    "column_order = joblib.load(\"/kaggle/working/column_order.pkl\")"
   ]
  },
  {
   "cell_type": "code",
   "execution_count": 35,
   "id": "6db5bb9c",
   "metadata": {
    "execution": {
     "iopub.execute_input": "2025-06-30T17:05:14.444677Z",
     "iopub.status.busy": "2025-06-30T17:05:14.444384Z",
     "iopub.status.idle": "2025-06-30T17:05:14.460942Z",
     "shell.execute_reply": "2025-06-30T17:05:14.459996Z"
    },
    "papermill": {
     "duration": 0.034239,
     "end_time": "2025-06-30T17:05:14.462508",
     "exception": false,
     "start_time": "2025-06-30T17:05:14.428269",
     "status": "completed"
    },
    "tags": []
   },
   "outputs": [],
   "source": [
    "row = df_model.iloc[0]\n",
    "row_ready = transform_row_for_model(row, mlb, encoder, scaler, column_order)"
   ]
  },
  {
   "cell_type": "code",
   "execution_count": 36,
   "id": "a5fce9d3",
   "metadata": {
    "execution": {
     "iopub.execute_input": "2025-06-30T17:05:14.494664Z",
     "iopub.status.busy": "2025-06-30T17:05:14.494358Z",
     "iopub.status.idle": "2025-06-30T17:05:14.500503Z",
     "shell.execute_reply": "2025-06-30T17:05:14.499488Z"
    },
    "papermill": {
     "duration": 0.024332,
     "end_time": "2025-06-30T17:05:14.502113",
     "exception": false,
     "start_time": "2025-06-30T17:05:14.477781",
     "status": "completed"
    },
    "tags": []
   },
   "outputs": [],
   "source": [
    "def compare_transformed_vs_original(transformed_row, df_final, idx):\n",
    "    \"\"\"\n",
    "    Compara una fila transformada con la correspondiente en df_final.\n",
    "\n",
    "    Args:\n",
    "        transformed_row: resultado de transform_row_for_model\n",
    "        df_final: DataFrame completo ya procesado\n",
    "        idx: índice de la fila original en df_model / df_final\n",
    "\n",
    "    Returns:\n",
    "        True si coincide completamente (valor y orden), False si no.\n",
    "    \"\"\"\n",
    "    original_row = df_final.iloc[[idx]]\n",
    "    same_shape = transformed_row.shape == original_row.shape\n",
    "    same_columns = transformed_row.columns.equals(original_row.columns)\n",
    "    same_values = np.allclose(transformed_row.values, original_row.values, atol=1e-6)\n",
    "\n",
    "    print(f\"✔️ Mismo shape: {same_shape}\")\n",
    "    print(f\"✔️ Mismo orden de columnas: {same_columns}\")\n",
    "    print(f\"✔️ Valores equivalentes: {same_values}\")\n",
    "    \n",
    "    return same_shape and same_columns and same_values"
   ]
  },
  {
   "cell_type": "code",
   "execution_count": 37,
   "id": "c6656d87",
   "metadata": {
    "execution": {
     "iopub.execute_input": "2025-06-30T17:05:14.534330Z",
     "iopub.status.busy": "2025-06-30T17:05:14.533906Z",
     "iopub.status.idle": "2025-06-30T17:05:14.554535Z",
     "shell.execute_reply": "2025-06-30T17:05:14.553447Z"
    },
    "papermill": {
     "duration": 0.03858,
     "end_time": "2025-06-30T17:05:14.556050",
     "exception": false,
     "start_time": "2025-06-30T17:05:14.517470",
     "status": "completed"
    },
    "tags": []
   },
   "outputs": [
    {
     "name": "stdout",
     "output_type": "stream",
     "text": [
      "✔️ Mismo shape: True\n",
      "✔️ Mismo orden de columnas: True\n",
      "✔️ Valores equivalentes: True\n"
     ]
    },
    {
     "data": {
      "text/plain": [
       "True"
      ]
     },
     "execution_count": 37,
     "metadata": {},
     "output_type": "execute_result"
    }
   ],
   "source": [
    "# Transformar la fila\n",
    "row = df_model.iloc[0]\n",
    "row_ready = transform_row_for_model(row, mlb, encoder, scaler, column_order)\n",
    "\n",
    "# Comparar con df_final\n",
    "compare_transformed_vs_original(row_ready, df_final, idx=row.name)"
   ]
  },
  {
   "cell_type": "code",
   "execution_count": 38,
   "id": "fac8ecda",
   "metadata": {
    "execution": {
     "iopub.execute_input": "2025-06-30T17:05:14.588305Z",
     "iopub.status.busy": "2025-06-30T17:05:14.587632Z",
     "iopub.status.idle": "2025-06-30T17:05:14.609326Z",
     "shell.execute_reply": "2025-06-30T17:05:14.608504Z"
    },
    "papermill": {
     "duration": 0.039503,
     "end_time": "2025-06-30T17:05:14.611026",
     "exception": false,
     "start_time": "2025-06-30T17:05:14.571523",
     "status": "completed"
    },
    "tags": []
   },
   "outputs": [],
   "source": [
    "df_final.to_csv(\"df_ready_for_training.csv\", index=False)"
   ]
  },
  {
   "cell_type": "code",
   "execution_count": null,
   "id": "d8bb6b0a",
   "metadata": {
    "papermill": {
     "duration": 0.015112,
     "end_time": "2025-06-30T17:05:14.642104",
     "exception": false,
     "start_time": "2025-06-30T17:05:14.626992",
     "status": "completed"
    },
    "tags": []
   },
   "outputs": [],
   "source": []
  }
 ],
 "metadata": {
  "kaggle": {
   "accelerator": "none",
   "dataSources": [
    {
     "datasetId": 4345382,
     "sourceId": 7465226,
     "sourceType": "datasetVersion"
    }
   ],
   "dockerImageVersionId": 31040,
   "isGpuEnabled": false,
   "isInternetEnabled": true,
   "language": "python",
   "sourceType": "notebook"
  },
  "kernelspec": {
   "display_name": "Python 3",
   "language": "python",
   "name": "python3"
  },
  "language_info": {
   "codemirror_mode": {
    "name": "ipython",
    "version": 3
   },
   "file_extension": ".py",
   "mimetype": "text/x-python",
   "name": "python",
   "nbconvert_exporter": "python",
   "pygments_lexer": "ipython3",
   "version": "3.11.11"
  },
  "papermill": {
   "default_parameters": {},
   "duration": 12.714948,
   "end_time": "2025-06-30T17:05:15.379279",
   "environment_variables": {},
   "exception": null,
   "input_path": "__notebook__.ipynb",
   "output_path": "__notebook__.ipynb",
   "parameters": {},
   "start_time": "2025-06-30T17:05:02.664331",
   "version": "2.6.0"
  }
 },
 "nbformat": 4,
 "nbformat_minor": 5
}
